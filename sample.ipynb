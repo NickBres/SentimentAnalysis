{
 "cells": [
  {
   "cell_type": "code",
   "execution_count": 67,
   "id": "initial_id",
   "metadata": {
    "collapsed": true,
    "ExecuteTime": {
     "end_time": "2024-02-23T10:33:56.707861Z",
     "start_time": "2024-02-23T10:33:56.705442Z"
    }
   },
   "outputs": [],
   "source": [
    "# Load libraries\n",
    "import numpy as np # linear algebra\n",
    "import pandas as pd # data processing, CSV file I/O (e.g. pd.read_csv)\n",
    "import matplotlib.pyplot as plt # Visualization\n",
    "\n",
    "import tensorflow as tf # Deep Learning\n",
    "import tensorflow_hub as hub # Pre-trained models\n",
    " "
   ]
  },
  {
   "cell_type": "markdown",
   "source": [
    "# Data Preprocessing"
   ],
   "metadata": {
    "collapsed": false
   },
   "id": "19fba2e84bdc0149"
  },
  {
   "cell_type": "code",
   "outputs": [
    {
     "data": {
      "text/plain": "     Result                                              Tweet\n0  Positive  im getting on borderlands and i will murder yo...\n1  Positive  I am coming to the borders and I will kill you...\n2  Positive  im getting on borderlands and i will kill you ...\n3  Positive  im coming on borderlands and i will murder you...\n4  Positive  im getting on borderlands 2 and i will murder ...",
      "text/html": "<div>\n<style scoped>\n    .dataframe tbody tr th:only-of-type {\n        vertical-align: middle;\n    }\n\n    .dataframe tbody tr th {\n        vertical-align: top;\n    }\n\n    .dataframe thead th {\n        text-align: right;\n    }\n</style>\n<table border=\"1\" class=\"dataframe\">\n  <thead>\n    <tr style=\"text-align: right;\">\n      <th></th>\n      <th>Result</th>\n      <th>Tweet</th>\n    </tr>\n  </thead>\n  <tbody>\n    <tr>\n      <th>0</th>\n      <td>Positive</td>\n      <td>im getting on borderlands and i will murder yo...</td>\n    </tr>\n    <tr>\n      <th>1</th>\n      <td>Positive</td>\n      <td>I am coming to the borders and I will kill you...</td>\n    </tr>\n    <tr>\n      <th>2</th>\n      <td>Positive</td>\n      <td>im getting on borderlands and i will kill you ...</td>\n    </tr>\n    <tr>\n      <th>3</th>\n      <td>Positive</td>\n      <td>im coming on borderlands and i will murder you...</td>\n    </tr>\n    <tr>\n      <th>4</th>\n      <td>Positive</td>\n      <td>im getting on borderlands 2 and i will murder ...</td>\n    </tr>\n  </tbody>\n</table>\n</div>"
     },
     "execution_count": 68,
     "metadata": {},
     "output_type": "execute_result"
    }
   ],
   "source": [
    "df = pd.read_csv('twitter_training.csv', usecols= ['Tweet','Result']) # Read the data only with the columns that we need\n",
    "df.head() # Show the first 5 rows of the data"
   ],
   "metadata": {
    "collapsed": false,
    "ExecuteTime": {
     "end_time": "2024-02-23T10:33:56.860920Z",
     "start_time": "2024-02-23T10:33:56.747383Z"
    }
   },
   "id": "1bc43258190cba17",
   "execution_count": 68
  },
  {
   "cell_type": "code",
   "outputs": [
    {
     "name": "stdout",
     "output_type": "stream",
     "text": [
      "<class 'pandas.core.frame.DataFrame'>\n",
      "RangeIndex: 74682 entries, 0 to 74681\n",
      "Data columns (total 2 columns):\n",
      " #   Column  Non-Null Count  Dtype \n",
      "---  ------  --------------  ----- \n",
      " 0   Result  74682 non-null  object\n",
      " 1   Tweet   73996 non-null  object\n",
      "dtypes: object(2)\n",
      "memory usage: 1.1+ MB\n"
     ]
    }
   ],
   "source": [
    "df.info()"
   ],
   "metadata": {
    "collapsed": false,
    "ExecuteTime": {
     "end_time": "2024-02-23T10:33:56.870278Z",
     "start_time": "2024-02-23T10:33:56.861977Z"
    }
   },
   "id": "54c27ed8f3a81fe4",
   "execution_count": 69
  },
  {
   "cell_type": "markdown",
   "source": [
    "As we can see, there are missing values in the data. We will drop the missing values. Because it is a small amount of data."
   ],
   "metadata": {
    "collapsed": false
   },
   "id": "9086cbc0575972f1"
  },
  {
   "cell_type": "code",
   "outputs": [],
   "source": [
    "df.dropna(inplace=True) # Drop the missing values"
   ],
   "metadata": {
    "collapsed": false,
    "ExecuteTime": {
     "end_time": "2024-02-23T10:33:56.879361Z",
     "start_time": "2024-02-23T10:33:56.871112Z"
    }
   },
   "id": "3de7fd234f660ea",
   "execution_count": 70
  },
  {
   "cell_type": "code",
   "outputs": [
    {
     "name": "stdout",
     "output_type": "stream",
     "text": [
      "<class 'pandas.core.frame.DataFrame'>\n",
      "Index: 73996 entries, 0 to 74681\n",
      "Data columns (total 2 columns):\n",
      " #   Column  Non-Null Count  Dtype \n",
      "---  ------  --------------  ----- \n",
      " 0   Result  73996 non-null  object\n",
      " 1   Tweet   73996 non-null  object\n",
      "dtypes: object(2)\n",
      "memory usage: 1.7+ MB\n"
     ]
    }
   ],
   "source": [
    "df.info()"
   ],
   "metadata": {
    "collapsed": false,
    "ExecuteTime": {
     "end_time": "2024-02-23T10:33:56.887597Z",
     "start_time": "2024-02-23T10:33:56.880494Z"
    }
   },
   "id": "c88a65ebca160918",
   "execution_count": 71
  },
  {
   "cell_type": "code",
   "outputs": [
    {
     "data": {
      "text/plain": "array(['Positive', 'Neutral', 'Negative', 'Irrelevant'], dtype=object)"
     },
     "execution_count": 72,
     "metadata": {},
     "output_type": "execute_result"
    }
   ],
   "source": [
    "df['Result'].unique()"
   ],
   "metadata": {
    "collapsed": false,
    "ExecuteTime": {
     "end_time": "2024-02-23T10:33:56.892467Z",
     "start_time": "2024-02-23T10:33:56.888611Z"
    }
   },
   "id": "1272c98c45bba332",
   "execution_count": 72
  },
  {
   "cell_type": "markdown",
   "source": [
    "Here we can see that we have four unique values in the Result column (Positive, Negative, Neutral, Irrelevant). We cant use the irrelevant data for our model. So we will drop the irrelevant data too."
   ],
   "metadata": {
    "collapsed": false
   },
   "id": "fedc12fbad3fd08f"
  },
  {
   "cell_type": "code",
   "outputs": [],
   "source": [
    "# Define the condition for irrelevant lines\n",
    "condition = df['Result'] == 'Irrelevant'\n",
    "\n",
    "# Get the indices of irrelevant lines\n",
    "irrelevant_indices = df[condition].index\n",
    "\n",
    "# Drop the irrelevant lines\n",
    "df.drop(irrelevant_indices, inplace=True)"
   ],
   "metadata": {
    "collapsed": false,
    "ExecuteTime": {
     "end_time": "2024-02-23T10:33:56.901349Z",
     "start_time": "2024-02-23T10:33:56.893168Z"
    }
   },
   "id": "dc24eae7ab498378",
   "execution_count": 73
  },
  {
   "cell_type": "code",
   "outputs": [
    {
     "data": {
      "text/plain": "array(['Positive', 'Neutral', 'Negative'], dtype=object)"
     },
     "execution_count": 74,
     "metadata": {},
     "output_type": "execute_result"
    }
   ],
   "source": [
    "df['Result'].unique()"
   ],
   "metadata": {
    "collapsed": false,
    "ExecuteTime": {
     "end_time": "2024-02-23T10:33:56.905623Z",
     "start_time": "2024-02-23T10:33:56.902012Z"
    }
   },
   "id": "25dc95cc6439876f",
   "execution_count": 74
  },
  {
   "cell_type": "markdown",
   "source": [
    "Now need to convert the labels to numerical values. We will convert the labels to 0, 1, 2. 0 for Negative, 1 for Neutral, 2 for Positive."
   ],
   "metadata": {
    "collapsed": false
   },
   "id": "344ea1cf948d1754"
  },
  {
   "cell_type": "code",
   "outputs": [],
   "source": [
    "df['Result'] = df['Result'].apply(lambda x: 0 if x == 'Negative' else (1 if x == 'Neutral' else 2)) # Convert the labels to numerical values"
   ],
   "metadata": {
    "collapsed": false,
    "ExecuteTime": {
     "end_time": "2024-02-23T10:33:56.916971Z",
     "start_time": "2024-02-23T10:33:56.906285Z"
    }
   },
   "id": "73dbb793a98e6d45",
   "execution_count": 75
  },
  {
   "cell_type": "code",
   "outputs": [
    {
     "data": {
      "text/plain": "   Result                                              Tweet\n0       2  im getting on borderlands and i will murder yo...\n1       2  I am coming to the borders and I will kill you...\n2       2  im getting on borderlands and i will kill you ...\n3       2  im coming on borderlands and i will murder you...\n4       2  im getting on borderlands 2 and i will murder ...",
      "text/html": "<div>\n<style scoped>\n    .dataframe tbody tr th:only-of-type {\n        vertical-align: middle;\n    }\n\n    .dataframe tbody tr th {\n        vertical-align: top;\n    }\n\n    .dataframe thead th {\n        text-align: right;\n    }\n</style>\n<table border=\"1\" class=\"dataframe\">\n  <thead>\n    <tr style=\"text-align: right;\">\n      <th></th>\n      <th>Result</th>\n      <th>Tweet</th>\n    </tr>\n  </thead>\n  <tbody>\n    <tr>\n      <th>0</th>\n      <td>2</td>\n      <td>im getting on borderlands and i will murder yo...</td>\n    </tr>\n    <tr>\n      <th>1</th>\n      <td>2</td>\n      <td>I am coming to the borders and I will kill you...</td>\n    </tr>\n    <tr>\n      <th>2</th>\n      <td>2</td>\n      <td>im getting on borderlands and i will kill you ...</td>\n    </tr>\n    <tr>\n      <th>3</th>\n      <td>2</td>\n      <td>im coming on borderlands and i will murder you...</td>\n    </tr>\n    <tr>\n      <th>4</th>\n      <td>2</td>\n      <td>im getting on borderlands 2 and i will murder ...</td>\n    </tr>\n  </tbody>\n</table>\n</div>"
     },
     "execution_count": 76,
     "metadata": {},
     "output_type": "execute_result"
    }
   ],
   "source": [
    "df['Result'].unique()\n",
    "df.head()"
   ],
   "metadata": {
    "collapsed": false,
    "ExecuteTime": {
     "end_time": "2024-02-23T10:33:56.920986Z",
     "start_time": "2024-02-23T10:33:56.917663Z"
    }
   },
   "id": "8cd8e22d49bba81f",
   "execution_count": 76
  },
  {
   "cell_type": "markdown",
   "source": [
    "Check if data is balanced"
   ],
   "metadata": {
    "collapsed": false
   },
   "id": "af0cf2bd8845ace0"
  },
  {
   "cell_type": "code",
   "outputs": [
    {
     "data": {
      "text/plain": "(22358, 18108, 20655)"
     },
     "execution_count": 77,
     "metadata": {},
     "output_type": "execute_result"
    }
   ],
   "source": [
    "len(df[df['Result'] == 0]) , len(df[df['Result'] == 1]) , len(df[df['Result'] == 2]) # Count the number of each label"
   ],
   "metadata": {
    "collapsed": false,
    "ExecuteTime": {
     "end_time": "2024-02-23T10:33:56.928310Z",
     "start_time": "2024-02-23T10:33:56.923226Z"
    }
   },
   "id": "dc3de6198c365f1",
   "execution_count": 77
  },
  {
   "cell_type": "markdown",
   "source": [
    "Data is balanced. Now we can convert the data to a tensorflow dataset."
   ],
   "metadata": {
    "collapsed": false
   },
   "id": "c5d2b136bea3418b"
  },
  {
   "cell_type": "code",
   "outputs": [],
   "source": [
    "# function that converts a panda dataframe to a tensorflow dataset\n",
    "def df_to_dataset(dataframe, shuffle=True, batch_size=1024): # Function to convert a dataframe to a dataset\n",
    "    df = dataframe.copy() # avoid modifying the original dataframe\n",
    "    labels = df.pop(\"Result\") # Remove the label column from the dataframe\n",
    "    df = df[\"Tweet\"] # Keep only the description column\n",
    "    ds = tf.data.Dataset.from_tensor_slices((df, labels)) # Create a tensorflow dataset\n",
    "    if shuffle: # Shuffle the dataset if needed\n",
    "        ds = ds.shuffle(buffer_size=len(dataframe))\n",
    "    ds = ds.batch(batch_size)  # Batch the dataset\n",
    "    ds = ds.prefetch(tf.data.AUTOTUNE) # automatically tune the number of batches to prefetch based on the current runtime conditions\n",
    "    return ds"
   ],
   "metadata": {
    "collapsed": false,
    "ExecuteTime": {
     "end_time": "2024-02-23T10:33:56.931334Z",
     "start_time": "2024-02-23T10:33:56.929005Z"
    }
   },
   "id": "5d418508e6ebdfcc",
   "execution_count": 78
  },
  {
   "cell_type": "code",
   "outputs": [
    {
     "name": "stderr",
     "output_type": "stream",
     "text": [
      "/Library/Frameworks/Python.framework/Versions/3.11/lib/python3.11/site-packages/numpy/core/fromnumeric.py:57: FutureWarning: 'DataFrame.swapaxes' is deprecated and will be removed in a future version. Please use 'DataFrame.transpose' instead.\n",
      "  return bound(*args, **kwds)\n"
     ]
    }
   ],
   "source": [
    "train, val , test = np.split(df.sample(frac=1), [int(.8*len(df)), int(.9*len(df))]) # Split the data into train, validation and test sets with 80%, 10% and 10% of the data "
   ],
   "metadata": {
    "collapsed": false,
    "ExecuteTime": {
     "end_time": "2024-02-23T10:33:56.939639Z",
     "start_time": "2024-02-23T10:33:56.932074Z"
    }
   },
   "id": "e9d7a7b7eac69a0e",
   "execution_count": 79
  },
  {
   "cell_type": "code",
   "outputs": [],
   "source": [
    "train_data = df_to_dataset(train) # Convert the train dataframe to a tensorflow dataset\n",
    "val_data = df_to_dataset(val) # Convert the validation dataframe to a tensorflow dataset\n",
    "test_data = df_to_dataset(test) # Convert the test dataframe to a tensorflow dataset"
   ],
   "metadata": {
    "collapsed": false,
    "ExecuteTime": {
     "end_time": "2024-02-23T10:33:56.969976Z",
     "start_time": "2024-02-23T10:33:56.940327Z"
    }
   },
   "id": "2c2e12fe56e1c5c4",
   "execution_count": 80
  },
  {
   "cell_type": "markdown",
   "source": [
    "# Model"
   ],
   "metadata": {
    "collapsed": false
   },
   "id": "e46900b05c03604a"
  },
  {
   "cell_type": "code",
   "outputs": [],
   "source": [
    "embedding = \"https://tfhub.dev/google/nnlm-en-dim50/2\" # Load the embedding model\n",
    "hub_layer = hub.KerasLayer(embedding, input_shape=[], dtype=tf.string, trainable=True) # Create a keras layer with the embedding model"
   ],
   "metadata": {
    "collapsed": false,
    "ExecuteTime": {
     "end_time": "2024-02-23T10:33:57.356047Z",
     "start_time": "2024-02-23T10:33:56.970769Z"
    }
   },
   "id": "ee67bb5238f425c1",
   "execution_count": 81
  },
  {
   "cell_type": "code",
   "outputs": [],
   "source": [
    "model = tf.keras.Sequential() # Create a sequential model\n",
    "model.add(hub_layer) # Add the pre-trained layer\n",
    "model.add(tf.keras.layers.Dense(16, activation='relu',kernel_regularizer=tf.keras.regularizers.l2(0.01))) # Add a hidden layer with 16 neurons\n",
    "model.add(tf.keras.layers.Dense(3, activation='softmax')) # Add an output layer with 1 neuron and a sigmoid activation function"
   ],
   "metadata": {
    "collapsed": false,
    "ExecuteTime": {
     "end_time": "2024-02-23T10:33:57.378155Z",
     "start_time": "2024-02-23T10:33:57.356888Z"
    }
   },
   "id": "9fe979fc5958fcae",
   "execution_count": 82
  },
  {
   "cell_type": "code",
   "outputs": [],
   "source": [
    "model.compile(\n",
    "    optimizer = tf.keras.optimizers.legacy.Adam(learning_rate=0.001), # gradient descent algorithm\n",
    "    loss =  tf.keras.losses.SparseCategoricalCrossentropy(), # loss function\n",
    "    metrics = ['accuracy']\n",
    ")"
   ],
   "metadata": {
    "collapsed": false,
    "ExecuteTime": {
     "end_time": "2024-02-23T10:33:57.383345Z",
     "start_time": "2024-02-23T10:33:57.378897Z"
    }
   },
   "id": "a36c98187bf97f91",
   "execution_count": 83
  },
  {
   "cell_type": "code",
   "outputs": [
    {
     "name": "stdout",
     "output_type": "stream",
     "text": [
      "48/48 [==============================] - 0s 3ms/step - loss: 1.3914 - accuracy: 0.2828\n"
     ]
    },
    {
     "data": {
      "text/plain": "[1.3914159536361694, 0.28276342153549194]"
     },
     "execution_count": 84,
     "metadata": {},
     "output_type": "execute_result"
    }
   ],
   "source": [
    "model.evaluate(train_data) # Evaluate the model on the test data"
   ],
   "metadata": {
    "collapsed": false,
    "ExecuteTime": {
     "end_time": "2024-02-23T10:33:57.652449Z",
     "start_time": "2024-02-23T10:33:57.383958Z"
    }
   },
   "id": "988f01f59275d414",
   "execution_count": 84
  },
  {
   "cell_type": "code",
   "outputs": [
    {
     "name": "stdout",
     "output_type": "stream",
     "text": [
      "6/6 [==============================] - 0s 4ms/step - loss: 1.3919 - accuracy: 0.2788\n"
     ]
    },
    {
     "data": {
      "text/plain": "[1.3919270038604736, 0.2787958085536957]"
     },
     "execution_count": 85,
     "metadata": {},
     "output_type": "execute_result"
    }
   ],
   "source": [
    "model.evaluate(val_data) # Evaluate the model on the validation data"
   ],
   "metadata": {
    "collapsed": false,
    "ExecuteTime": {
     "end_time": "2024-02-23T10:33:57.687374Z",
     "start_time": "2024-02-23T10:33:57.653116Z"
    }
   },
   "id": "abff764f082bdb9d",
   "execution_count": 85
  },
  {
   "cell_type": "code",
   "outputs": [
    {
     "name": "stdout",
     "output_type": "stream",
     "text": [
      "Epoch 1/5\n",
      "48/48 [==============================] - 8s 156ms/step - loss: 1.2731 - accuracy: 0.4371 - val_loss: 1.1790 - val_accuracy: 0.5717\n",
      "Epoch 2/5\n",
      "48/48 [==============================] - 8s 159ms/step - loss: 1.0790 - accuracy: 0.6487 - val_loss: 0.9889 - val_accuracy: 0.6795\n",
      "Epoch 3/5\n",
      "48/48 [==============================] - 8s 156ms/step - loss: 0.8741 - accuracy: 0.7297 - val_loss: 0.8185 - val_accuracy: 0.7405\n",
      "Epoch 4/5\n",
      "48/48 [==============================] - 7s 154ms/step - loss: 0.7034 - accuracy: 0.7941 - val_loss: 0.7044 - val_accuracy: 0.7754\n",
      "Epoch 5/5\n",
      "48/48 [==============================] - 7s 153ms/step - loss: 0.5806 - accuracy: 0.8427 - val_loss: 0.6258 - val_accuracy: 0.8058\n"
     ]
    }
   ],
   "source": [
    "history = model.fit(\n",
    "    train_data,\n",
    "    validation_data = val_data,\n",
    "    epochs = 5\n",
    ")"
   ],
   "metadata": {
    "collapsed": false,
    "ExecuteTime": {
     "end_time": "2024-02-23T10:34:35.397752Z",
     "start_time": "2024-02-23T10:33:57.688149Z"
    }
   },
   "id": "a4a766f959d0724",
   "execution_count": 86
  },
  {
   "cell_type": "code",
   "outputs": [
    {
     "data": {
      "text/plain": "<Figure size 640x480 with 1 Axes>",
      "image/png": "[encoded data removed]"
     },
     "metadata": {},
     "output_type": "display_data"
    }
   ],
   "source": [
    "plt.plot(history.history['accuracy'], label='accuracy') # Plot the accuracy of the model on the train data\n",
    "plt.plot(history.history['val_accuracy'], label = 'val_accuracy') # Plot the accuracy of the model on the validation data\n",
    "plt.title('Accuracy of the model')\n",
    "plt.xlabel('Epoch')\n",
    "plt.ylabel('Accuracy')\n",
    "plt.legend()\n",
    "plt.show()"
   ],
   "metadata": {
    "collapsed": false,
    "ExecuteTime": {
     "end_time": "2024-02-23T10:34:35.475384Z",
     "start_time": "2024-02-23T10:34:35.398534Z"
    }
   },
   "id": "1a7cf29d3e661142",
   "execution_count": 87
  },
  {
   "cell_type": "code",
   "outputs": [
    {
     "data": {
      "text/plain": "<Figure size 640x480 with 1 Axes>",
      "image/png": "[encoded data removed]"
     },
     "metadata": {},
     "output_type": "display_data"
    }
   ],
   "source": [
    "plt.plot(history.history['loss'], label='loss') # Plot the accuracy of the model on the train data\n",
    "plt.plot(history.history['val_loss'], label = 'val_loss') # Plot the accuracy of the model on the validation data\n",
    "plt.title('Loss of the model')\n",
    "plt.xlabel('Epoch')\n",
    "plt.ylabel('Loss')\n",
    "plt.legend()\n",
    "plt.show()"
   ],
   "metadata": {
    "collapsed": false,
    "ExecuteTime": {
     "end_time": "2024-02-23T10:34:35.549311Z",
     "start_time": "2024-02-23T10:34:35.476019Z"
    }
   },
   "id": "b0839c50e0809584",
   "execution_count": 88
  },
  {
   "cell_type": "code",
   "outputs": [
    {
     "name": "stdout",
     "output_type": "stream",
     "text": [
      "6/6 [==============================] - 0s 24ms/step - loss: 0.6332 - accuracy: 0.8009\n"
     ]
    },
    {
     "data": {
      "text/plain": "[0.633197009563446, 0.8009160757064819]"
     },
     "execution_count": 89,
     "metadata": {},
     "output_type": "execute_result"
    }
   ],
   "source": [
    "model.evaluate(test_data) # Evaluate the model on the test data"
   ],
   "metadata": {
    "collapsed": false,
    "ExecuteTime": {
     "end_time": "2024-02-23T10:34:35.702763Z",
     "start_time": "2024-02-23T10:34:35.549959Z"
    }
   },
   "id": "66f5ecf96b60c83",
   "execution_count": 89
  }
 ],
 "metadata": {
  "kernelspec": {
   "display_name": "Python 3",
   "language": "python",
   "name": "python3"
  },
  "language_info": {
   "codemirror_mode": {
    "name": "ipython",
    "version": 2
   },
   "file_extension": ".py",
   "mimetype": "text/x-python",
   "name": "python",
   "nbconvert_exporter": "python",
   "pygments_lexer": "ipython2",
   "version": "2.7.6"
  }
 },
 "nbformat": 4,
 "nbformat_minor": 5
}
