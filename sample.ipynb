{
 "cells": [
  {
   "cell_type": "code",
   "execution_count": 42,
   "id": "initial_id",
   "metadata": {
    "collapsed": true,
    "ExecuteTime": {
     "end_time": "2024-02-23T10:21:56.838289Z",
     "start_time": "2024-02-23T10:21:56.833159Z"
    }
   },
   "outputs": [],
   "source": [
    "# Load libraries\n",
    "import numpy as np # linear algebra\n",
    "import pandas as pd # data processing, CSV file I/O (e.g. pd.read_csv)\n",
    "import matplotlib.pyplot as plt # Visualization\n",
    "\n",
    "import tensorflow as tf # Deep Learning\n",
    "import tensorflow_hub as hub # Pre-trained models\n",
    " "
   ]
  },
  {
   "cell_type": "markdown",
   "source": [
    "# Data Preprocessing"
   ],
   "metadata": {
    "collapsed": false
   },
   "id": "19fba2e84bdc0149"
  },
  {
   "cell_type": "code",
   "outputs": [
    {
     "data": {
      "text/plain": "     Result                                              Tweet\n0  Positive  im getting on borderlands and i will murder yo...\n1  Positive  I am coming to the borders and I will kill you...\n2  Positive  im getting on borderlands and i will kill you ...\n3  Positive  im coming on borderlands and i will murder you...\n4  Positive  im getting on borderlands 2 and i will murder ...",
      "text/html": "<div>\n<style scoped>\n    .dataframe tbody tr th:only-of-type {\n        vertical-align: middle;\n    }\n\n    .dataframe tbody tr th {\n        vertical-align: top;\n    }\n\n    .dataframe thead th {\n        text-align: right;\n    }\n</style>\n<table border=\"1\" class=\"dataframe\">\n  <thead>\n    <tr style=\"text-align: right;\">\n      <th></th>\n      <th>Result</th>\n      <th>Tweet</th>\n    </tr>\n  </thead>\n  <tbody>\n    <tr>\n      <th>0</th>\n      <td>Positive</td>\n      <td>im getting on borderlands and i will murder yo...</td>\n    </tr>\n    <tr>\n      <th>1</th>\n      <td>Positive</td>\n      <td>I am coming to the borders and I will kill you...</td>\n    </tr>\n    <tr>\n      <th>2</th>\n      <td>Positive</td>\n      <td>im getting on borderlands and i will kill you ...</td>\n    </tr>\n    <tr>\n      <th>3</th>\n      <td>Positive</td>\n      <td>im coming on borderlands and i will murder you...</td>\n    </tr>\n    <tr>\n      <th>4</th>\n      <td>Positive</td>\n      <td>im getting on borderlands 2 and i will murder ...</td>\n    </tr>\n  </tbody>\n</table>\n</div>"
     },
     "execution_count": 43,
     "metadata": {},
     "output_type": "execute_result"
    }
   ],
   "source": [
    "df = pd.read_csv('twitter_training.csv', usecols= ['Tweet','Result']) # Read the data only with the columns that we need\n",
    "df.head() # Show the first 5 rows of the data"
   ],
   "metadata": {
    "collapsed": false,
    "ExecuteTime": {
     "end_time": "2024-02-23T10:21:56.980758Z",
     "start_time": "2024-02-23T10:21:56.860282Z"
    }
   },
   "id": "1bc43258190cba17",
   "execution_count": 43
  },
  {
   "cell_type": "code",
   "outputs": [
    {
     "name": "stdout",
     "output_type": "stream",
     "text": [
      "<class 'pandas.core.frame.DataFrame'>\n",
      "RangeIndex: 74682 entries, 0 to 74681\n",
      "Data columns (total 2 columns):\n",
      " #   Column  Non-Null Count  Dtype \n",
      "---  ------  --------------  ----- \n",
      " 0   Result  74682 non-null  object\n",
      " 1   Tweet   73996 non-null  object\n",
      "dtypes: object(2)\n",
      "memory usage: 1.1+ MB\n"
     ]
    }
   ],
   "source": [
    "df.info()"
   ],
   "metadata": {
    "collapsed": false,
    "ExecuteTime": {
     "end_time": "2024-02-23T10:21:56.991005Z",
     "start_time": "2024-02-23T10:21:56.981828Z"
    }
   },
   "id": "54c27ed8f3a81fe4",
   "execution_count": 44
  },
  {
   "cell_type": "code",
   "outputs": [],
   "source": [
    "df.dropna(inplace=True) # Drop the missing values"
   ],
   "metadata": {
    "collapsed": false,
    "ExecuteTime": {
     "end_time": "2024-02-23T10:21:57.000185Z",
     "start_time": "2024-02-23T10:21:56.991710Z"
    }
   },
   "id": "3de7fd234f660ea",
   "execution_count": 45
  },
  {
   "cell_type": "code",
   "outputs": [
    {
     "name": "stdout",
     "output_type": "stream",
     "text": [
      "<class 'pandas.core.frame.DataFrame'>\n",
      "Index: 73996 entries, 0 to 74681\n",
      "Data columns (total 2 columns):\n",
      " #   Column  Non-Null Count  Dtype \n",
      "---  ------  --------------  ----- \n",
      " 0   Result  73996 non-null  object\n",
      " 1   Tweet   73996 non-null  object\n",
      "dtypes: object(2)\n",
      "memory usage: 1.7+ MB\n"
     ]
    }
   ],
   "source": [
    "df.info()"
   ],
   "metadata": {
    "collapsed": false,
    "ExecuteTime": {
     "end_time": "2024-02-23T10:21:57.009707Z",
     "start_time": "2024-02-23T10:21:57.001727Z"
    }
   },
   "id": "c88a65ebca160918",
   "execution_count": 46
  },
  {
   "cell_type": "code",
   "outputs": [
    {
     "data": {
      "text/plain": "array(['Positive', 'Neutral', 'Negative', 'Irrelevant'], dtype=object)"
     },
     "execution_count": 47,
     "metadata": {},
     "output_type": "execute_result"
    }
   ],
   "source": [
    "df['Result'].unique()"
   ],
   "metadata": {
    "collapsed": false,
    "ExecuteTime": {
     "end_time": "2024-02-23T10:21:57.015019Z",
     "start_time": "2024-02-23T10:21:57.010726Z"
    }
   },
   "id": "1272c98c45bba332",
   "execution_count": 47
  },
  {
   "cell_type": "code",
   "outputs": [],
   "source": [
    "# Define the condition for irrelevant lines\n",
    "condition = df['Result'] == 'Irrelevant'\n",
    "\n",
    "# Get the indices of irrelevant lines\n",
    "irrelevant_indices = df[condition].index\n",
    "\n",
    "# Drop the irrelevant lines\n",
    "df.drop(irrelevant_indices, inplace=True)"
   ],
   "metadata": {
    "collapsed": false,
    "ExecuteTime": {
     "end_time": "2024-02-23T10:21:57.024653Z",
     "start_time": "2024-02-23T10:21:57.015693Z"
    }
   },
   "id": "dc24eae7ab498378",
   "execution_count": 48
  },
  {
   "cell_type": "code",
   "outputs": [
    {
     "data": {
      "text/plain": "array(['Positive', 'Neutral', 'Negative'], dtype=object)"
     },
     "execution_count": 49,
     "metadata": {},
     "output_type": "execute_result"
    }
   ],
   "source": [
    "df['Result'].unique()"
   ],
   "metadata": {
    "collapsed": false,
    "ExecuteTime": {
     "end_time": "2024-02-23T10:21:57.029299Z",
     "start_time": "2024-02-23T10:21:57.025521Z"
    }
   },
   "id": "25dc95cc6439876f",
   "execution_count": 49
  },
  {
   "cell_type": "code",
   "outputs": [],
   "source": [
    "df['Result'] = df['Result'].apply(lambda x: 0 if x == 'Negative' else (1 if x == 'Neutral' else 2)) # Convert the labels to numerical values"
   ],
   "metadata": {
    "collapsed": false,
    "ExecuteTime": {
     "end_time": "2024-02-23T10:21:57.040505Z",
     "start_time": "2024-02-23T10:21:57.030050Z"
    }
   },
   "id": "73dbb793a98e6d45",
   "execution_count": 50
  },
  {
   "cell_type": "code",
   "outputs": [
    {
     "data": {
      "text/plain": "   Result                                              Tweet\n0       2  im getting on borderlands and i will murder yo...\n1       2  I am coming to the borders and I will kill you...\n2       2  im getting on borderlands and i will kill you ...\n3       2  im coming on borderlands and i will murder you...\n4       2  im getting on borderlands 2 and i will murder ...",
      "text/html": "<div>\n<style scoped>\n    .dataframe tbody tr th:only-of-type {\n        vertical-align: middle;\n    }\n\n    .dataframe tbody tr th {\n        vertical-align: top;\n    }\n\n    .dataframe thead th {\n        text-align: right;\n    }\n</style>\n<table border=\"1\" class=\"dataframe\">\n  <thead>\n    <tr style=\"text-align: right;\">\n      <th></th>\n      <th>Result</th>\n      <th>Tweet</th>\n    </tr>\n  </thead>\n  <tbody>\n    <tr>\n      <th>0</th>\n      <td>2</td>\n      <td>im getting on borderlands and i will murder yo...</td>\n    </tr>\n    <tr>\n      <th>1</th>\n      <td>2</td>\n      <td>I am coming to the borders and I will kill you...</td>\n    </tr>\n    <tr>\n      <th>2</th>\n      <td>2</td>\n      <td>im getting on borderlands and i will kill you ...</td>\n    </tr>\n    <tr>\n      <th>3</th>\n      <td>2</td>\n      <td>im coming on borderlands and i will murder you...</td>\n    </tr>\n    <tr>\n      <th>4</th>\n      <td>2</td>\n      <td>im getting on borderlands 2 and i will murder ...</td>\n    </tr>\n  </tbody>\n</table>\n</div>"
     },
     "execution_count": 51,
     "metadata": {},
     "output_type": "execute_result"
    }
   ],
   "source": [
    "df['Result'].unique()\n",
    "df.head()"
   ],
   "metadata": {
    "collapsed": false,
    "ExecuteTime": {
     "end_time": "2024-02-23T10:21:57.044576Z",
     "start_time": "2024-02-23T10:21:57.041241Z"
    }
   },
   "id": "8cd8e22d49bba81f",
   "execution_count": 51
  },
  {
   "cell_type": "code",
   "outputs": [
    {
     "data": {
      "text/plain": "(18108, 22358, 0)"
     },
     "execution_count": 52,
     "metadata": {},
     "output_type": "execute_result"
    }
   ],
   "source": [
    "len(df[df['Result'] == 1]) , len(df[df['Result'] == 0]) , len(df[df['Result'] == -1]) # Count the number of each label\n",
    "# data set is surprisingly balanced"
   ],
   "metadata": {
    "collapsed": false,
    "ExecuteTime": {
     "end_time": "2024-02-23T10:21:57.051602Z",
     "start_time": "2024-02-23T10:21:57.046725Z"
    }
   },
   "id": "dc3de6198c365f1",
   "execution_count": 52
  },
  {
   "cell_type": "code",
   "outputs": [],
   "source": [
    "# function that converts a panda dataframe to a tensorflow dataset\n",
    "def df_to_dataset(dataframe, shuffle=True, batch_size=1024): # Function to convert a dataframe to a dataset\n",
    "    df = dataframe.copy() # avoid modifying the original dataframe\n",
    "    labels = df.pop(\"Result\") # Remove the label column from the dataframe\n",
    "    df = df[\"Tweet\"] # Keep only the description column\n",
    "    ds = tf.data.Dataset.from_tensor_slices((df, labels)) # Create a tensorflow dataset\n",
    "    if shuffle: # Shuffle the dataset if needed\n",
    "        ds = ds.shuffle(buffer_size=len(dataframe))\n",
    "    ds = ds.batch(batch_size)  # Batch the dataset\n",
    "    ds = ds.prefetch(tf.data.AUTOTUNE) # automatically tune the number of batches to prefetch based on the current runtime conditions\n",
    "    return ds"
   ],
   "metadata": {
    "collapsed": false,
    "ExecuteTime": {
     "end_time": "2024-02-23T10:21:57.054920Z",
     "start_time": "2024-02-23T10:21:57.052328Z"
    }
   },
   "id": "5d418508e6ebdfcc",
   "execution_count": 53
  },
  {
   "cell_type": "code",
   "outputs": [
    {
     "name": "stderr",
     "output_type": "stream",
     "text": [
      "/Library/Frameworks/Python.framework/Versions/3.11/lib/python3.11/site-packages/numpy/core/fromnumeric.py:57: FutureWarning: 'DataFrame.swapaxes' is deprecated and will be removed in a future version. Please use 'DataFrame.transpose' instead.\n",
      "  return bound(*args, **kwds)\n"
     ]
    }
   ],
   "source": [
    "train, val , test = np.split(df.sample(frac=1), [int(.8*len(df)), int(.9*len(df))]) # Split the data into train, validation and test sets with 80%, 10% and 10% of the data "
   ],
   "metadata": {
    "collapsed": false,
    "ExecuteTime": {
     "end_time": "2024-02-23T10:21:57.067489Z",
     "start_time": "2024-02-23T10:21:57.055642Z"
    }
   },
   "id": "e9d7a7b7eac69a0e",
   "execution_count": 54
  },
  {
   "cell_type": "code",
   "outputs": [],
   "source": [
    "train_data = df_to_dataset(train) # Convert the train dataframe to a tensorflow dataset\n",
    "val_data = df_to_dataset(val) # Convert the validation dataframe to a tensorflow dataset\n",
    "test_data = df_to_dataset(test) # Convert the test dataframe to a tensorflow dataset"
   ],
   "metadata": {
    "collapsed": false,
    "ExecuteTime": {
     "end_time": "2024-02-23T10:21:57.100598Z",
     "start_time": "2024-02-23T10:21:57.068295Z"
    }
   },
   "id": "2c2e12fe56e1c5c4",
   "execution_count": 55
  },
  {
   "cell_type": "markdown",
   "source": [
    "# Model"
   ],
   "metadata": {
    "collapsed": false
   },
   "id": "e46900b05c03604a"
  },
  {
   "cell_type": "code",
   "outputs": [],
   "source": [
    "embedding = \"https://tfhub.dev/google/nnlm-en-dim50/2\" # Load the embedding model\n",
    "hub_layer = hub.KerasLayer(embedding, input_shape=[], dtype=tf.string, trainable=True) # Create a keras layer with the embedding model"
   ],
   "metadata": {
    "collapsed": false,
    "ExecuteTime": {
     "end_time": "2024-02-23T10:21:57.476810Z",
     "start_time": "2024-02-23T10:21:57.101272Z"
    }
   },
   "id": "ee67bb5238f425c1",
   "execution_count": 56
  },
  {
   "cell_type": "code",
   "outputs": [],
   "source": [
    "model = tf.keras.Sequential() # Create a sequential model\n",
    "model.add(hub_layer) # Add the pre-trained layer\n",
    "model.add(tf.keras.layers.Dense(16, activation='relu',kernel_regularizer=tf.keras.regularizers.l2(0.01))) # Add a hidden layer with 16 neurons\n",
    "model.add(tf.keras.layers.Dense(3, activation='softmax')) # Add an output layer with 1 neuron and a sigmoid activation function"
   ],
   "metadata": {
    "collapsed": false,
    "ExecuteTime": {
     "end_time": "2024-02-23T10:21:57.497783Z",
     "start_time": "2024-02-23T10:21:57.477442Z"
    }
   },
   "id": "9fe979fc5958fcae",
   "execution_count": 57
  },
  {
   "cell_type": "code",
   "outputs": [],
   "source": [
    "model.compile(\n",
    "    optimizer = tf.keras.optimizers.legacy.Adam(learning_rate=0.001), # gradient descent algorithm\n",
    "    loss =  tf.keras.losses.SparseCategoricalCrossentropy(), # loss function\n",
    "    metrics = ['accuracy']\n",
    ")"
   ],
   "metadata": {
    "collapsed": false,
    "ExecuteTime": {
     "end_time": "2024-02-23T10:21:57.503926Z",
     "start_time": "2024-02-23T10:21:57.498505Z"
    }
   },
   "id": "a36c98187bf97f91",
   "execution_count": 58
  },
  {
   "cell_type": "code",
   "outputs": [
    {
     "name": "stdout",
     "output_type": "stream",
     "text": [
      "48/48 [==============================] - 0s 3ms/step - loss: 1.3539 - accuracy: 0.3078\n"
     ]
    },
    {
     "data": {
      "text/plain": "[1.3538912534713745, 0.30777567625045776]"
     },
     "execution_count": 59,
     "metadata": {},
     "output_type": "execute_result"
    }
   ],
   "source": [
    "model.evaluate(train_data) # Evaluate the model on the test data"
   ],
   "metadata": {
    "collapsed": false,
    "ExecuteTime": {
     "end_time": "2024-02-23T10:21:57.778462Z",
     "start_time": "2024-02-23T10:21:57.504804Z"
    }
   },
   "id": "988f01f59275d414",
   "execution_count": 59
  },
  {
   "cell_type": "code",
   "outputs": [
    {
     "name": "stdout",
     "output_type": "stream",
     "text": [
      "6/6 [==============================] - 0s 3ms/step - loss: 1.3496 - accuracy: 0.3192\n"
     ]
    },
    {
     "data": {
      "text/plain": "[1.3495604991912842, 0.3192081153392792]"
     },
     "execution_count": 60,
     "metadata": {},
     "output_type": "execute_result"
    }
   ],
   "source": [
    "model.evaluate(val_data) # Evaluate the model on the validation data"
   ],
   "metadata": {
    "collapsed": false,
    "ExecuteTime": {
     "end_time": "2024-02-23T10:21:57.811763Z",
     "start_time": "2024-02-23T10:21:57.779192Z"
    }
   },
   "id": "abff764f082bdb9d",
   "execution_count": 60
  },
  {
   "cell_type": "code",
   "outputs": [
    {
     "name": "stdout",
     "output_type": "stream",
     "text": [
      "Epoch 1/5\n",
      "48/48 [==============================] - 8s 155ms/step - loss: 1.2619 - accuracy: 0.4249 - val_loss: 1.1718 - val_accuracy: 0.5151\n",
      "Epoch 2/5\n",
      "48/48 [==============================] - 7s 154ms/step - loss: 1.0882 - accuracy: 0.5771 - val_loss: 1.0082 - val_accuracy: 0.6283\n",
      "Epoch 3/5\n",
      "48/48 [==============================] - 7s 152ms/step - loss: 0.9089 - accuracy: 0.6936 - val_loss: 0.8484 - val_accuracy: 0.7153\n",
      "Epoch 4/5\n",
      "48/48 [==============================] - 7s 153ms/step - loss: 0.7346 - accuracy: 0.7787 - val_loss: 0.7195 - val_accuracy: 0.7687\n",
      "Epoch 5/5\n",
      "48/48 [==============================] - 7s 150ms/step - loss: 0.5986 - accuracy: 0.8336 - val_loss: 0.6352 - val_accuracy: 0.8025\n"
     ]
    }
   ],
   "source": [
    "history = model.fit(\n",
    "    train_data,\n",
    "    validation_data = val_data,\n",
    "    epochs = 5\n",
    ")"
   ],
   "metadata": {
    "collapsed": false,
    "ExecuteTime": {
     "end_time": "2024-02-23T10:22:34.791159Z",
     "start_time": "2024-02-23T10:21:57.812327Z"
    }
   },
   "id": "a4a766f959d0724",
   "execution_count": 61
  },
  {
   "cell_type": "code",
   "outputs": [
    {
     "data": {
      "text/plain": "<Figure size 640x480 with 1 Axes>",
      "image/png": "[encoded data removed]"
     },
     "metadata": {},
     "output_type": "display_data"
    }
   ],
   "source": [
    "plt.plot(history.history['accuracy'], label='accuracy') # Plot the accuracy of the model on the train data\n",
    "plt.plot(history.history['val_accuracy'], label = 'val_accuracy') # Plot the accuracy of the model on the validation data\n",
    "plt.title('Accuracy of the model')\n",
    "plt.xlabel('Epoch')\n",
    "plt.ylabel('Accuracy')\n",
    "plt.legend()\n",
    "plt.show()"
   ],
   "metadata": {
    "collapsed": false,
    "ExecuteTime": {
     "end_time": "2024-02-23T10:22:34.868694Z",
     "start_time": "2024-02-23T10:22:34.791769Z"
    }
   },
   "id": "1a7cf29d3e661142",
   "execution_count": 62
  },
  {
   "cell_type": "code",
   "outputs": [
    {
     "data": {
      "text/plain": "<Figure size 640x480 with 1 Axes>",
      "image/png": "[encoded data removed]"
     },
     "metadata": {},
     "output_type": "display_data"
    }
   ],
   "source": [
    "plt.plot(history.history['loss'], label='loss') # Plot the accuracy of the model on the train data\n",
    "plt.plot(history.history['val_loss'], label = 'val_loss') # Plot the accuracy of the model on the validation data\n",
    "plt.title('Loss of the model')\n",
    "plt.xlabel('Epoch')\n",
    "plt.ylabel('Loss')\n",
    "plt.legend()\n",
    "plt.show()"
   ],
   "metadata": {
    "collapsed": false,
    "ExecuteTime": {
     "end_time": "2024-02-23T10:22:34.938721Z",
     "start_time": "2024-02-23T10:22:34.869349Z"
    }
   },
   "id": "b0839c50e0809584",
   "execution_count": 63
  },
  {
   "cell_type": "code",
   "outputs": [
    {
     "name": "stdout",
     "output_type": "stream",
     "text": [
      "6/6 [==============================] - 0s 21ms/step - loss: 0.6380 - accuracy: 0.7998\n"
     ]
    },
    {
     "data": {
      "text/plain": "[0.6380356550216675, 0.7997709512710571]"
     },
     "execution_count": 64,
     "metadata": {},
     "output_type": "execute_result"
    }
   ],
   "source": [
    "model.evaluate(test_data) # Evaluate the model on the test data"
   ],
   "metadata": {
    "collapsed": false,
    "ExecuteTime": {
     "end_time": "2024-02-23T10:22:35.074611Z",
     "start_time": "2024-02-23T10:22:34.939557Z"
    }
   },
   "id": "66f5ecf96b60c83",
   "execution_count": 64
  }
 ],
 "metadata": {
  "kernelspec": {
   "display_name": "Python 3",
   "language": "python",
   "name": "python3"
  },
  "language_info": {
   "codemirror_mode": {
    "name": "ipython",
    "version": 2
   },
   "file_extension": ".py",
   "mimetype": "text/x-python",
   "name": "python",
   "nbconvert_exporter": "python",
   "pygments_lexer": "ipython2",
   "version": "2.7.6"
  }
 },
 "nbformat": 4,
 "nbformat_minor": 5
}
