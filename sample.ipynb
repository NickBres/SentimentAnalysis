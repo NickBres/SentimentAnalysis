{
 "cells": [
  {
   "cell_type": "code",
   "execution_count": 171,
   "id": "initial_id",
   "metadata": {
    "collapsed": true,
    "ExecuteTime": {
     "end_time": "2024-02-24T17:31:48.567064Z",
     "start_time": "2024-02-24T17:31:48.565017Z"
    }
   },
   "outputs": [],
   "source": [
    "# Load libraries\n",
    "import numpy as np # linear algebra\n",
    "import pandas as pd # data processing, CSV file I/O (e.g. pd.read_csv)\n",
    "import matplotlib.pyplot as plt # Visualization\n",
    "\n",
    "import tensorflow as tf # Deep Learning\n",
    "import tensorflow_hub as hub # Pre-trained models\n",
    " "
   ]
  },
  {
   "cell_type": "markdown",
   "source": [
    "# Data Preprocessing"
   ],
   "metadata": {
    "collapsed": false
   },
   "id": "19fba2e84bdc0149"
  },
  {
   "cell_type": "code",
   "outputs": [],
   "source": [
    "df = pd.read_csv('Twitter_Data.csv') # Read the data only with the columns that we need\n",
    "df.head() # Show the first 5 rows of the data\n",
    "df2 = pd.read_csv('Reddit_Data.csv')\n",
    "df2 = df2.rename(columns={'clean_comment': 'clean_text'})\n",
    "df = pd.concat([df, df2])"
   ],
   "metadata": {
    "collapsed": false,
    "ExecuteTime": {
     "end_time": "2024-02-24T17:31:48.897082Z",
     "start_time": "2024-02-24T17:31:48.606090Z"
    }
   },
   "id": "1bc43258190cba17",
   "execution_count": 172
  },
  {
   "cell_type": "code",
   "outputs": [
    {
     "name": "stdout",
     "output_type": "stream",
     "text": [
      "<class 'pandas.core.frame.DataFrame'>\n",
      "Index: 200229 entries, 0 to 37248\n",
      "Data columns (total 2 columns):\n",
      " #   Column      Non-Null Count   Dtype  \n",
      "---  ------      --------------   -----  \n",
      " 0   clean_text  200125 non-null  object \n",
      " 1   category    200222 non-null  float64\n",
      "dtypes: float64(1), object(1)\n",
      "memory usage: 4.6+ MB\n"
     ]
    }
   ],
   "source": [
    "df.info()"
   ],
   "metadata": {
    "collapsed": false,
    "ExecuteTime": {
     "end_time": "2024-02-24T17:31:48.908185Z",
     "start_time": "2024-02-24T17:31:48.897992Z"
    }
   },
   "id": "54c27ed8f3a81fe4",
   "execution_count": 173
  },
  {
   "cell_type": "markdown",
   "source": [
    "As we can see, there are missing values in the data. We will drop the missing values. Because it is a small amount of data."
   ],
   "metadata": {
    "collapsed": false
   },
   "id": "9086cbc0575972f1"
  },
  {
   "cell_type": "code",
   "outputs": [],
   "source": [
    "df.dropna(inplace=True) # Drop the missing values"
   ],
   "metadata": {
    "collapsed": false,
    "ExecuteTime": {
     "end_time": "2024-02-24T17:31:48.924754Z",
     "start_time": "2024-02-24T17:31:48.908822Z"
    }
   },
   "id": "3de7fd234f660ea",
   "execution_count": 174
  },
  {
   "cell_type": "code",
   "outputs": [
    {
     "name": "stdout",
     "output_type": "stream",
     "text": [
      "<class 'pandas.core.frame.DataFrame'>\n",
      "Index: 200118 entries, 0 to 37248\n",
      "Data columns (total 2 columns):\n",
      " #   Column      Non-Null Count   Dtype  \n",
      "---  ------      --------------   -----  \n",
      " 0   clean_text  200118 non-null  object \n",
      " 1   category    200118 non-null  float64\n",
      "dtypes: float64(1), object(1)\n",
      "memory usage: 4.6+ MB\n"
     ]
    }
   ],
   "source": [
    "df.info()"
   ],
   "metadata": {
    "collapsed": false,
    "ExecuteTime": {
     "end_time": "2024-02-24T17:31:48.937491Z",
     "start_time": "2024-02-24T17:31:48.926095Z"
    }
   },
   "id": "c88a65ebca160918",
   "execution_count": 175
  },
  {
   "cell_type": "code",
   "outputs": [
    {
     "data": {
      "text/plain": "array([-1.,  0.,  1.])"
     },
     "execution_count": 176,
     "metadata": {},
     "output_type": "execute_result"
    }
   ],
   "source": [
    "df['category'].unique()"
   ],
   "metadata": {
    "collapsed": false,
    "ExecuteTime": {
     "end_time": "2024-02-24T17:31:48.941903Z",
     "start_time": "2024-02-24T17:31:48.938276Z"
    }
   },
   "id": "1272c98c45bba332",
   "execution_count": 176
  },
  {
   "cell_type": "markdown",
   "source": [
    "Now need to convert the labels to numerical values. We will convert the labels to 0, 1, 2. 0 for Negative, 1 for Neutral, 2 for Positive."
   ],
   "metadata": {
    "collapsed": false
   },
   "id": "344ea1cf948d1754"
  },
  {
   "cell_type": "code",
   "outputs": [],
   "source": [
    "df['category'] = df['category'].apply(lambda x: 0 if x == -1 else (1 if x == 0 else 2)) # Convert the labels to numerical values"
   ],
   "metadata": {
    "collapsed": false,
    "ExecuteTime": {
     "end_time": "2024-02-24T17:31:48.981099Z",
     "start_time": "2024-02-24T17:31:48.942594Z"
    }
   },
   "id": "73dbb793a98e6d45",
   "execution_count": 177
  },
  {
   "cell_type": "code",
   "outputs": [
    {
     "data": {
      "text/plain": "                                          clean_text  category\n0  when modi promised “minimum government maximum...         0\n1  talk all the nonsense and continue all the dra...         1\n2  what did just say vote for modi  welcome bjp t...         2\n3  asking his supporters prefix chowkidar their n...         2\n4  answer who among these the most powerful world...         2",
      "text/html": "<div>\n<style scoped>\n    .dataframe tbody tr th:only-of-type {\n        vertical-align: middle;\n    }\n\n    .dataframe tbody tr th {\n        vertical-align: top;\n    }\n\n    .dataframe thead th {\n        text-align: right;\n    }\n</style>\n<table border=\"1\" class=\"dataframe\">\n  <thead>\n    <tr style=\"text-align: right;\">\n      <th></th>\n      <th>clean_text</th>\n      <th>category</th>\n    </tr>\n  </thead>\n  <tbody>\n    <tr>\n      <th>0</th>\n      <td>when modi promised “minimum government maximum...</td>\n      <td>0</td>\n    </tr>\n    <tr>\n      <th>1</th>\n      <td>talk all the nonsense and continue all the dra...</td>\n      <td>1</td>\n    </tr>\n    <tr>\n      <th>2</th>\n      <td>what did just say vote for modi  welcome bjp t...</td>\n      <td>2</td>\n    </tr>\n    <tr>\n      <th>3</th>\n      <td>asking his supporters prefix chowkidar their n...</td>\n      <td>2</td>\n    </tr>\n    <tr>\n      <th>4</th>\n      <td>answer who among these the most powerful world...</td>\n      <td>2</td>\n    </tr>\n  </tbody>\n</table>\n</div>"
     },
     "execution_count": 178,
     "metadata": {},
     "output_type": "execute_result"
    }
   ],
   "source": [
    "df['category'].unique()\n",
    "df.head()"
   ],
   "metadata": {
    "collapsed": false,
    "ExecuteTime": {
     "end_time": "2024-02-24T17:31:48.985798Z",
     "start_time": "2024-02-24T17:31:48.982255Z"
    }
   },
   "id": "8cd8e22d49bba81f",
   "execution_count": 178
  },
  {
   "cell_type": "markdown",
   "source": [
    "Check if data is balanced"
   ],
   "metadata": {
    "collapsed": false
   },
   "id": "af0cf2bd8845ace0"
  },
  {
   "cell_type": "code",
   "outputs": [
    {
     "data": {
      "text/plain": "(43786, 68253, 88079)"
     },
     "execution_count": 179,
     "metadata": {},
     "output_type": "execute_result"
    }
   ],
   "source": [
    "len(df[df['category'] == 0]) , len(df[df['category'] == 1]) , len(df[df['category'] == 2]) # Count the number of each label"
   ],
   "metadata": {
    "collapsed": false,
    "ExecuteTime": {
     "end_time": "2024-02-24T17:31:48.997675Z",
     "start_time": "2024-02-24T17:31:48.986322Z"
    }
   },
   "id": "dc3de6198c365f1",
   "execution_count": 179
  },
  {
   "cell_type": "markdown",
   "source": [
    "Data is balanced. Now we can convert the data to a tensorflow dataset."
   ],
   "metadata": {
    "collapsed": false
   },
   "id": "c5d2b136bea3418b"
  },
  {
   "cell_type": "code",
   "outputs": [],
   "source": [
    "# function that converts a panda dataframe to a tensorflow dataset\n",
    "def df_to_dataset(dataframe, shuffle=True, batch_size=1024): # Function to convert a dataframe to a dataset\n",
    "    df = dataframe.copy() # avoid modifying the original dataframe\n",
    "    labels = df.pop(\"category\") # Remove the label column from the dataframe\n",
    "    df = df[\"clean_text\"] # Keep only the description column\n",
    "    ds = tf.data.Dataset.from_tensor_slices((df, labels)) # Create a tensorflow dataset\n",
    "    if shuffle: # Shuffle the dataset if needed\n",
    "        ds = ds.shuffle(buffer_size=len(dataframe))\n",
    "    ds = ds.batch(batch_size)  # Batch the dataset\n",
    "    ds = ds.prefetch(tf.data.AUTOTUNE) # automatically tune the number of batches to prefetch based on the current runtime conditions\n",
    "    return ds"
   ],
   "metadata": {
    "collapsed": false,
    "ExecuteTime": {
     "end_time": "2024-02-24T17:31:49.000619Z",
     "start_time": "2024-02-24T17:31:48.998369Z"
    }
   },
   "id": "5d418508e6ebdfcc",
   "execution_count": 180
  },
  {
   "cell_type": "code",
   "outputs": [
    {
     "name": "stderr",
     "output_type": "stream",
     "text": [
      "/Library/Frameworks/Python.framework/Versions/3.11/lib/python3.11/site-packages/numpy/core/fromnumeric.py:57: FutureWarning: 'DataFrame.swapaxes' is deprecated and will be removed in a future version. Please use 'DataFrame.transpose' instead.\n",
      "  return bound(*args, **kwds)\n"
     ]
    }
   ],
   "source": [
    "train, val , test = np.split(df.sample(frac=1), [int(.8*len(df)), int(.9*len(df))]) # Split the data into train, validation and test sets with 80%, 10% and 10% of the data "
   ],
   "metadata": {
    "collapsed": false,
    "ExecuteTime": {
     "end_time": "2024-02-24T17:31:49.020790Z",
     "start_time": "2024-02-24T17:31:49.002700Z"
    }
   },
   "id": "e9d7a7b7eac69a0e",
   "execution_count": 181
  },
  {
   "cell_type": "code",
   "outputs": [],
   "source": [
    "train_data = df_to_dataset(train) # Convert the train dataframe to a tensorflow dataset\n",
    "val_data = df_to_dataset(val) # Convert the validation dataframe to a tensorflow dataset\n",
    "test_data = df_to_dataset(test) # Convert the test dataframe to a tensorflow dataset"
   ],
   "metadata": {
    "collapsed": false,
    "ExecuteTime": {
     "end_time": "2024-02-24T17:31:49.087689Z",
     "start_time": "2024-02-24T17:31:49.021676Z"
    }
   },
   "id": "2c2e12fe56e1c5c4",
   "execution_count": 182
  },
  {
   "cell_type": "markdown",
   "source": [
    "# Model"
   ],
   "metadata": {
    "collapsed": false
   },
   "id": "e46900b05c03604a"
  },
  {
   "cell_type": "code",
   "outputs": [],
   "source": [
    "embedding = \"https://tfhub.dev/google/nnlm-en-dim50/2\" # Load the embedding model\n",
    "hub_layer = hub.KerasLayer(embedding, input_shape=[], dtype=tf.string, trainable=True) # Create a keras layer with the embedding model"
   ],
   "metadata": {
    "collapsed": false,
    "ExecuteTime": {
     "end_time": "2024-02-24T17:31:49.533430Z",
     "start_time": "2024-02-24T17:31:49.088319Z"
    }
   },
   "id": "ee67bb5238f425c1",
   "execution_count": 183
  },
  {
   "cell_type": "code",
   "outputs": [],
   "source": [
    "model = tf.keras.Sequential() # Create a sequential model\n",
    "model.add(hub_layer) # Add the pre-trained layer\n",
    "\n",
    "# Assuming the output of hub_layer is a flat vector. This is just a conceptual example.\n",
    "# In practice, CNNs need sequence or matrix inputs.\n",
    "#model.add(tf.keras.layers.Reshape((50, 1)))  # Reshape for CNN, if necessary\n",
    "#model.add(tf.keras.layers.Conv1D(filters=64, kernel_size=3, activation='relu'))  # Example CNN layer\n",
    "#model.add(tf.keras.layers.GlobalMaxPooling1D())  # Pooling layer to reduce dimensionality\n",
    "\n",
    "\n",
    "model.add(tf.keras.layers.Dense(16, activation='relu',kernel_regularizer=tf.keras.regularizers.l2(0.01))) # Add a hidden layer with 16 neurons\n",
    "model.add(tf.keras.layers.Dense(3, activation='softmax')) "
   ],
   "metadata": {
    "collapsed": false,
    "ExecuteTime": {
     "end_time": "2024-02-24T17:31:49.557865Z",
     "start_time": "2024-02-24T17:31:49.534501Z"
    }
   },
   "id": "9fe979fc5958fcae",
   "execution_count": 184
  },
  {
   "cell_type": "code",
   "outputs": [],
   "source": [
    "model.compile(\n",
    "    optimizer = tf.keras.optimizers.legacy.Adam(learning_rate=0.001), # gradient descent algorithm\n",
    "    loss =  tf.keras.losses.SparseCategoricalCrossentropy(), # loss function\n",
    "    metrics = ['accuracy']\n",
    ")"
   ],
   "metadata": {
    "collapsed": false,
    "ExecuteTime": {
     "end_time": "2024-02-24T17:31:49.563122Z",
     "start_time": "2024-02-24T17:31:49.558509Z"
    }
   },
   "id": "a36c98187bf97f91",
   "execution_count": 185
  },
  {
   "cell_type": "code",
   "outputs": [
    {
     "name": "stdout",
     "output_type": "stream",
     "text": [
      "157/157 [==============================] - 1s 4ms/step - loss: 1.3736 - accuracy: 0.2789\n"
     ]
    },
    {
     "data": {
      "text/plain": "[1.3736134767532349, 0.2789486050605774]"
     },
     "execution_count": 186,
     "metadata": {},
     "output_type": "execute_result"
    }
   ],
   "source": [
    "model.evaluate(train_data) # Evaluate the model on the test data"
   ],
   "metadata": {
    "collapsed": false,
    "ExecuteTime": {
     "end_time": "2024-02-24T17:31:50.348824Z",
     "start_time": "2024-02-24T17:31:49.563751Z"
    }
   },
   "id": "988f01f59275d414",
   "execution_count": 186
  },
  {
   "cell_type": "code",
   "outputs": [
    {
     "name": "stdout",
     "output_type": "stream",
     "text": [
      "20/20 [==============================] - 0s 4ms/step - loss: 1.3715 - accuracy: 0.2840\n"
     ]
    },
    {
     "data": {
      "text/plain": "[1.3715438842773438, 0.2840295732021332]"
     },
     "execution_count": 187,
     "metadata": {},
     "output_type": "execute_result"
    }
   ],
   "source": [
    "model.evaluate(val_data) # Evaluate the model on the validation data"
   ],
   "metadata": {
    "collapsed": false,
    "ExecuteTime": {
     "end_time": "2024-02-24T17:31:50.452967Z",
     "start_time": "2024-02-24T17:31:50.349547Z"
    }
   },
   "id": "abff764f082bdb9d",
   "execution_count": 187
  },
  {
   "cell_type": "code",
   "outputs": [
    {
     "name": "stdout",
     "output_type": "stream",
     "text": [
      "Epoch 1/10\n",
      "157/157 [==============================] - 26s 163ms/step - loss: 1.0680 - accuracy: 0.5642 - val_loss: 0.7901 - val_accuracy: 0.7437\n",
      "Epoch 2/10\n",
      "157/157 [==============================] - 26s 163ms/step - loss: 0.5813 - accuracy: 0.8556 - val_loss: 0.4703 - val_accuracy: 0.8954\n",
      "Epoch 3/10\n",
      "157/157 [==============================] - 26s 163ms/step - loss: 0.3668 - accuracy: 0.9344 - val_loss: 0.3679 - val_accuracy: 0.9239\n",
      "Epoch 4/10\n",
      "157/157 [==============================] - 27s 170ms/step - loss: 0.2837 - accuracy: 0.9538 - val_loss: 0.3215 - val_accuracy: 0.9307\n",
      "Epoch 5/10\n",
      "157/157 [==============================] - 27s 169ms/step - loss: 0.2395 - accuracy: 0.9622 - val_loss: 0.2946 - val_accuracy: 0.9365\n",
      "Epoch 6/10\n",
      "157/157 [==============================] - 26s 164ms/step - loss: 0.2110 - accuracy: 0.9670 - val_loss: 0.2798 - val_accuracy: 0.9360\n",
      "Epoch 7/10\n",
      "157/157 [==============================] - 26s 166ms/step - loss: 0.1907 - accuracy: 0.9702 - val_loss: 0.2701 - val_accuracy: 0.9372\n",
      "Epoch 8/10\n",
      "157/157 [==============================] - 26s 167ms/step - loss: 0.1752 - accuracy: 0.9728 - val_loss: 0.2633 - val_accuracy: 0.9370\n",
      "Epoch 9/10\n",
      "157/157 [==============================] - 26s 163ms/step - loss: 0.1628 - accuracy: 0.9748 - val_loss: 0.2583 - val_accuracy: 0.9361\n",
      "Epoch 10/10\n",
      "157/157 [==============================] - 27s 169ms/step - loss: 0.1527 - accuracy: 0.9762 - val_loss: 0.2583 - val_accuracy: 0.9343\n"
     ]
    }
   ],
   "source": [
    "history = model.fit(\n",
    "    train_data,\n",
    "    validation_data = val_data,\n",
    "    epochs = 10\n",
    ")"
   ],
   "metadata": {
    "collapsed": false,
    "ExecuteTime": {
     "end_time": "2024-02-24T17:36:12.174865Z",
     "start_time": "2024-02-24T17:31:50.453585Z"
    }
   },
   "id": "a4a766f959d0724",
   "execution_count": 188
  },
  {
   "cell_type": "code",
   "outputs": [
    {
     "data": {
      "text/plain": "<Figure size 640x480 with 1 Axes>",
      "image/png": "[encoded data removed]"
     },
     "metadata": {},
     "output_type": "display_data"
    }
   ],
   "source": [
    "plt.plot(history.history['accuracy'], label='accuracy') # Plot the accuracy of the model on the train data\n",
    "plt.plot(history.history['val_accuracy'], label = 'val_accuracy') # Plot the accuracy of the model on the validation data\n",
    "plt.title('Accuracy of the model')\n",
    "plt.xlabel('Epoch')\n",
    "plt.ylabel('Accuracy')\n",
    "plt.legend()\n",
    "plt.show()"
   ],
   "metadata": {
    "collapsed": false,
    "ExecuteTime": {
     "end_time": "2024-02-24T17:36:12.246814Z",
     "start_time": "2024-02-24T17:36:12.176241Z"
    }
   },
   "id": "1a7cf29d3e661142",
   "execution_count": 189
  },
  {
   "cell_type": "code",
   "outputs": [
    {
     "data": {
      "text/plain": "<Figure size 640x480 with 1 Axes>",
      "image/png": "[encoded data removed]"
     },
     "metadata": {},
     "output_type": "display_data"
    }
   ],
   "source": [
    "plt.plot(history.history['loss'], label='loss') # Plot the accuracy of the model on the train data\n",
    "plt.plot(history.history['val_loss'], label = 'val_loss') # Plot the accuracy of the model on the validation data\n",
    "plt.title('Loss of the model')\n",
    "plt.xlabel('Epoch')\n",
    "plt.ylabel('Loss')\n",
    "plt.legend()\n",
    "plt.show()"
   ],
   "metadata": {
    "collapsed": false,
    "ExecuteTime": {
     "end_time": "2024-02-24T17:36:12.309643Z",
     "start_time": "2024-02-24T17:36:12.247461Z"
    }
   },
   "id": "b0839c50e0809584",
   "execution_count": 190
  },
  {
   "cell_type": "code",
   "outputs": [
    {
     "name": "stdout",
     "output_type": "stream",
     "text": [
      "20/20 [==============================] - 0s 22ms/step - loss: 0.2741 - accuracy: 0.9312\n"
     ]
    },
    {
     "data": {
      "text/plain": "[0.2740967869758606, 0.9312412738800049]"
     },
     "execution_count": 191,
     "metadata": {},
     "output_type": "execute_result"
    }
   ],
   "source": [
    "model.evaluate(test_data) # Evaluate the model on the test data"
   ],
   "metadata": {
    "collapsed": false,
    "ExecuteTime": {
     "end_time": "2024-02-24T17:36:12.771208Z",
     "start_time": "2024-02-24T17:36:12.310596Z"
    }
   },
   "id": "66f5ecf96b60c83",
   "execution_count": 191
  },
  {
   "cell_type": "code",
   "outputs": [],
   "source": [
    "def predict_sentiment(model, text):\n",
    "    # Convert the text to a pandas DataFrame\n",
    "    df = pd.DataFrame([text], columns=['Tweet'])\n",
    "\n",
    "    # Convert the DataFrame to a tensorflow dataset\n",
    "    ds = tf.data.Dataset.from_tensor_slices(df[\"Tweet\"]).batch(1)\n",
    "\n",
    "    # Use the model to predict the sentiment\n",
    "    prediction = model.predict(ds)\n",
    "\n",
    "    # Get the index of the maximum value (this will be the predicted label)\n",
    "    predicted_label = np.argmax(prediction)\n",
    "\n",
    "    # Map the numerical label back to the original label\n",
    "    sentiment_map = {0: 'Negative', 1: 'Neutral', 2: 'Positive'}\n",
    "    predicted_sentiment = sentiment_map[predicted_label]\n",
    "\n",
    "    # Print the predicted sentiment\n",
    "    print(f\"{text} is {predicted_sentiment}\")"
   ],
   "metadata": {
    "collapsed": false,
    "ExecuteTime": {
     "end_time": "2024-02-24T17:36:12.774456Z",
     "start_time": "2024-02-24T17:36:12.771852Z"
    }
   },
   "id": "18ff4daeb689dbb6",
   "execution_count": 192
  },
  {
   "cell_type": "code",
   "outputs": [
    {
     "name": "stdout",
     "output_type": "stream",
     "text": [
      "1/1 [==============================] - 0s 47ms/step\n",
      "I am Gilad Fisher is Neutral\n",
      "1/1 [==============================] - 0s 25ms/step\n",
      "I am Barak Finkel is Neutral\n",
      "1/1 [==============================] - 0s 24ms/step\n",
      "I am Nikita Breslavsky is Neutral\n",
      "1/1 [==============================] - 0s 24ms/step\n",
      "I hate Nikita Breslavsky is Negative\n",
      "1/1 [==============================] - 0s 23ms/step\n",
      "I love Nikita Breslavsky is Positive\n",
      "1/1 [==============================] - 0s 23ms/step\n",
      "I love to kill people is Positive\n",
      "1/1 [==============================] - 0s 24ms/step\n",
      "I dont love myself is Positive\n"
     ]
    }
   ],
   "source": [
    "predict_sentiment(model, \"I am Gilad Fisher\") \n",
    "predict_sentiment(model, \"I am Barak Finkel\")\n",
    "predict_sentiment(model, \"I am Nikita Breslavsky\")\n",
    "predict_sentiment(model, \"I hate Nikita Breslavsky\")\n",
    "predict_sentiment(model, \"I love Nikita Breslavsky\")\n",
    "predict_sentiment(model, \"I love to kill people\")\n",
    "predict_sentiment(model, \"I dont love myself\")"
   ],
   "metadata": {
    "collapsed": false,
    "ExecuteTime": {
     "end_time": "2024-02-24T17:36:12.991702Z",
     "start_time": "2024-02-24T17:36:12.775240Z"
    }
   },
   "id": "2e4a673c4f3c2bba",
   "execution_count": 193
  },
  {
   "cell_type": "code",
   "outputs": [],
   "source": [
    "# LSTM MODEL\n",
    "encoder = tf.keras.layers.TextVectorization(max_tokens=2000)\n",
    "encoder.adapt(train_data.map(lambda text, label: text))"
   ],
   "metadata": {
    "collapsed": false,
    "ExecuteTime": {
     "end_time": "2024-02-24T17:36:57.282023Z",
     "start_time": "2024-02-24T17:36:56.236382Z"
    }
   },
   "id": "a386d10176de9a39",
   "execution_count": 194
  },
  {
   "cell_type": "code",
   "outputs": [
    {
     "data": {
      "text/plain": "array(['', '[UNK]', 'the', 'modi', 'and', 'for', 'you', 'that', 'this',\n       'are', 'not', 'will', 'india', 'with', 'have', 'but', 'has',\n       'they', 'all', 'was'], dtype='<U15')"
     },
     "execution_count": 195,
     "metadata": {},
     "output_type": "execute_result"
    }
   ],
   "source": [
    "vocab = np.array(encoder.get_vocabulary())\n",
    "vocab[:20]"
   ],
   "metadata": {
    "collapsed": false,
    "ExecuteTime": {
     "end_time": "2024-02-24T17:36:59.268890Z",
     "start_time": "2024-02-24T17:36:59.262800Z"
    }
   },
   "id": "9aea429027c8f175",
   "execution_count": 195
  },
  {
   "cell_type": "code",
   "outputs": [],
   "source": [
    "model2 = tf.keras.Sequential([\n",
    "    encoder,\n",
    "    tf.keras.layers.Embedding(\n",
    "        input_dim=len(encoder.get_vocabulary()),\n",
    "        output_dim=32,\n",
    "        # Use masking to handle the variable sequence lengths\n",
    "        mask_zero=True),\n",
    "    tf.keras.layers.LSTM(32),\n",
    "    tf.keras.layers.Dense(32, activation='relu'),\n",
    "    tf.keras.layers.Dropout(0.4),\n",
    "    tf.keras.layers.Dense(3, activation='softmax')\n",
    "])"
   ],
   "metadata": {
    "collapsed": false,
    "ExecuteTime": {
     "end_time": "2024-02-24T17:42:10.434145Z",
     "start_time": "2024-02-24T17:42:10.136195Z"
    }
   },
   "id": "32762ad313edf590",
   "execution_count": 201
  },
  {
   "cell_type": "code",
   "outputs": [],
   "source": [
    "model2.compile(\n",
    "    optimizer = tf.keras.optimizers.legacy.Adam(learning_rate=0.001), # gradient descent algorithm\n",
    "    loss =  tf.keras.losses.SparseCategoricalCrossentropy(), # loss function\n",
    "    metrics = ['accuracy']\n",
    ")"
   ],
   "metadata": {
    "collapsed": false,
    "ExecuteTime": {
     "end_time": "2024-02-24T17:42:51.130348Z",
     "start_time": "2024-02-24T17:42:51.125639Z"
    }
   },
   "id": "faf5ded476fad566",
   "execution_count": 206
  },
  {
   "cell_type": "code",
   "outputs": [
    {
     "name": "stdout",
     "output_type": "stream",
     "text": [
      "157/157 [==============================] - 94s 588ms/step - loss: 1.0982 - accuracy: 0.3641\n"
     ]
    },
    {
     "data": {
      "text/plain": "[1.0982247591018677, 0.3641235828399658]"
     },
     "execution_count": 207,
     "metadata": {},
     "output_type": "execute_result"
    }
   ],
   "source": [
    "model2.evaluate(train_data) # Evaluate the model on the test data"
   ],
   "metadata": {
    "collapsed": false,
    "ExecuteTime": {
     "end_time": "2024-02-24T17:44:25.425524Z",
     "start_time": "2024-02-24T17:42:51.851011Z"
    }
   },
   "id": "a3ac808104551ee3",
   "execution_count": 207
  },
  {
   "cell_type": "code",
   "outputs": [
    {
     "name": "stdout",
     "output_type": "stream",
     "text": [
      "20/20 [==============================] - 11s 518ms/step - loss: 1.0982 - accuracy: 0.3627\n"
     ]
    },
    {
     "data": {
      "text/plain": "[1.0981894731521606, 0.3627323508262634]"
     },
     "execution_count": 208,
     "metadata": {},
     "output_type": "execute_result"
    }
   ],
   "source": [
    "model2.evaluate(val_data) # Evaluate the model on the validation data"
   ],
   "metadata": {
    "collapsed": false,
    "ExecuteTime": {
     "end_time": "2024-02-24T17:44:36.572733Z",
     "start_time": "2024-02-24T17:44:25.429281Z"
    }
   },
   "id": "1732935358ce4bd8",
   "execution_count": 208
  },
  {
   "cell_type": "code",
   "outputs": [
    {
     "name": "stdout",
     "output_type": "stream",
     "text": [
      "Epoch 1/5\n",
      "157/157 [==============================] - 283s 2s/step - loss: 0.8175 - accuracy: 0.6394 - val_loss: 0.5037 - val_accuracy: 0.8313\n",
      "Epoch 2/5\n",
      "157/157 [==============================] - 282s 2s/step - loss: 0.4275 - accuracy: 0.8732 - val_loss: 0.3617 - val_accuracy: 0.8925\n",
      "Epoch 3/5\n",
      "157/157 [==============================] - 282s 2s/step - loss: 0.3732 - accuracy: 0.8929 - val_loss: 0.3510 - val_accuracy: 0.8942\n",
      "Epoch 4/5\n",
      "157/157 [==============================] - 276s 2s/step - loss: 0.3607 - accuracy: 0.8960 - val_loss: 0.3479 - val_accuracy: 0.8946\n",
      "Epoch 5/5\n",
      "157/157 [==============================] - 278s 2s/step - loss: 0.3546 - accuracy: 0.8968 - val_loss: 0.3431 - val_accuracy: 0.8945\n"
     ]
    },
    {
     "data": {
      "text/plain": "<keras.src.callbacks.History at 0x31a3a0590>"
     },
     "execution_count": 209,
     "metadata": {},
     "output_type": "execute_result"
    }
   ],
   "source": [
    "model2.fit(\n",
    "    train_data,\n",
    "    validation_data = val_data,\n",
    "    epochs = 5\n",
    ")"
   ],
   "metadata": {
    "collapsed": false,
    "ExecuteTime": {
     "end_time": "2024-02-24T18:07:57.688461Z",
     "start_time": "2024-02-24T17:44:36.573394Z"
    }
   },
   "id": "d7017d55978985fe",
   "execution_count": 209
  },
  {
   "cell_type": "code",
   "outputs": [
    {
     "name": "stdout",
     "output_type": "stream",
     "text": [
      "20/20 [==============================] - 13s 662ms/step - loss: 0.3402 - accuracy: 0.8972\n"
     ]
    },
    {
     "data": {
      "text/plain": "[0.34024637937545776, 0.8972116708755493]"
     },
     "execution_count": 210,
     "metadata": {},
     "output_type": "execute_result"
    }
   ],
   "source": [
    "model2.evaluate(test_data) # Evaluate the model on the test data"
   ],
   "metadata": {
    "collapsed": false,
    "ExecuteTime": {
     "end_time": "2024-02-24T18:08:10.905752Z",
     "start_time": "2024-02-24T18:07:57.690939Z"
    }
   },
   "id": "a4609dded746d402",
   "execution_count": 210
  },
  {
   "cell_type": "code",
   "outputs": [
    {
     "name": "stdout",
     "output_type": "stream",
     "text": [
      "1/1 [==============================] - 0s 75ms/step\n",
      "I am Gilad Fisher is Neutral\n",
      "1/1 [==============================] - 0s 25ms/step\n",
      "I am Barak Finkel is Neutral\n",
      "1/1 [==============================] - 0s 23ms/step\n",
      "I am Nikita Breslavsky is Neutral\n",
      "1/1 [==============================] - 0s 24ms/step\n",
      "I hate Nikita Breslavsky is Negative\n",
      "1/1 [==============================] - 0s 21ms/step\n",
      "I love Nikita Breslavsky is Positive\n",
      "1/1 [==============================] - 0s 23ms/step\n",
      "I love to kill people is Positive\n",
      "1/1 [==============================] - 0s 23ms/step\n",
      "I dont love myself is Positive\n"
     ]
    }
   ],
   "source": [
    "predict_sentiment(model, \"I am Gilad Fisher\")\n",
    "predict_sentiment(model, \"I am Barak Finkel\")\n",
    "predict_sentiment(model, \"I am Nikita Breslavsky\")\n",
    "predict_sentiment(model, \"I hate Nikita Breslavsky\")\n",
    "predict_sentiment(model, \"I love Nikita Breslavsky\")\n",
    "predict_sentiment(model, \"I love to kill people\")\n",
    "predict_sentiment(model, \"I dont love myself\")"
   ],
   "metadata": {
    "collapsed": false,
    "ExecuteTime": {
     "end_time": "2024-02-24T18:08:11.150770Z",
     "start_time": "2024-02-24T18:08:10.906523Z"
    }
   },
   "id": "1b06dca1102d0eff",
   "execution_count": 211
  }
 ],
 "metadata": {
  "kernelspec": {
   "display_name": "Python 3",
   "language": "python",
   "name": "python3"
  },
  "language_info": {
   "codemirror_mode": {
    "name": "ipython",
    "version": 2
   },
   "file_extension": ".py",
   "mimetype": "text/x-python",
   "name": "python",
   "nbconvert_exporter": "python",
   "pygments_lexer": "ipython2",
   "version": "2.7.6"
  }
 },
 "nbformat": 4,
 "nbformat_minor": 5
}
