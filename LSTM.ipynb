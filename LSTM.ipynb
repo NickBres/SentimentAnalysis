{
 "cells": [
  {
   "cell_type": "code",
   "execution_count": 15,
   "id": "initial_id",
   "metadata": {
    "collapsed": true,
    "ExecuteTime": {
     "end_time": "2024-02-27T15:33:15.226175Z",
     "start_time": "2024-02-27T15:33:15.224373Z"
    }
   },
   "outputs": [],
   "source": [
    "# Load libraries\n",
    "import numpy as np # linear algebra\n",
    "import pandas as pd # data processing, CSV file I/O (e.g. pd.read_csv)\n",
    "import matplotlib.pyplot as plt # Visualization\n",
    "\n",
    "import tensorflow as tf # Deep Learning"
   ]
  },
  {
   "cell_type": "code",
   "outputs": [],
   "source": [
    "df = pd.read_csv('Twitter_Data.csv') # Read the data only with the columns that we need\n",
    "df.head() # Show the first 5 rows of the data\n",
    "df2 = pd.read_csv('Reddit_Data.csv')\n",
    "df2 = df2.rename(columns={'clean_comment': 'clean_text'})\n",
    "df = pd.concat([df, df2])"
   ],
   "metadata": {
    "collapsed": false,
    "ExecuteTime": {
     "end_time": "2024-02-27T15:33:15.585723Z",
     "start_time": "2024-02-27T15:33:15.228898Z"
    }
   },
   "id": "6b9c964d7c6abc70",
   "execution_count": 16
  },
  {
   "cell_type": "code",
   "outputs": [],
   "source": [
    "df.dropna(inplace=True) # Drop the missing values"
   ],
   "metadata": {
    "collapsed": false,
    "ExecuteTime": {
     "end_time": "2024-02-27T15:33:15.604783Z",
     "start_time": "2024-02-27T15:33:15.587022Z"
    }
   },
   "id": "9dfab1d00ddeb286",
   "execution_count": 17
  },
  {
   "cell_type": "code",
   "outputs": [],
   "source": [
    "df['category'] = df['category'].apply(lambda x: 0 if x == -1 else (1 if x == 0 else 2)) # Convert the labels to numerical values"
   ],
   "metadata": {
    "collapsed": false,
    "ExecuteTime": {
     "end_time": "2024-02-27T15:33:15.644585Z",
     "start_time": "2024-02-27T15:33:15.605463Z"
    }
   },
   "id": "96abafa3e793ad3",
   "execution_count": 18
  },
  {
   "cell_type": "code",
   "outputs": [],
   "source": [
    "# function that converts a panda dataframe to a tensorflow dataset\n",
    "def df_to_dataset(dataframe, shuffle=True, batch_size=1024): # Function to convert a dataframe to a dataset\n",
    "    df = dataframe.copy() # avoid modifying the original dataframe\n",
    "    labels = df.pop(\"category\") # Remove the label column from the dataframe\n",
    "    df = df[\"clean_text\"] # Keep only the description column\n",
    "    ds = tf.data.Dataset.from_tensor_slices((df, labels)) # Create a tensorflow dataset\n",
    "    if shuffle: # Shuffle the dataset if needed\n",
    "        ds = ds.shuffle(buffer_size=len(dataframe))\n",
    "    ds = ds.batch(batch_size)  # Batch the dataset\n",
    "    ds = ds.prefetch(tf.data.AUTOTUNE) # automatically tune the number of batches to prefetch based on the current runtime conditions\n",
    "    return ds"
   ],
   "metadata": {
    "collapsed": false,
    "ExecuteTime": {
     "end_time": "2024-02-27T15:33:15.648532Z",
     "start_time": "2024-02-27T15:33:15.646060Z"
    }
   },
   "id": "9a053ac04ea9bf",
   "execution_count": 19
  },
  {
   "cell_type": "code",
   "outputs": [
    {
     "name": "stderr",
     "output_type": "stream",
     "text": [
      "/Library/Frameworks/Python.framework/Versions/3.11/lib/python3.11/site-packages/numpy/core/fromnumeric.py:57: FutureWarning: 'DataFrame.swapaxes' is deprecated and will be removed in a future version. Please use 'DataFrame.transpose' instead.\n",
      "  return bound(*args, **kwds)\n"
     ]
    }
   ],
   "source": [
    "train, val , test = np.split(df.sample(frac=1), [int(.8*len(df)), int(.9*len(df))]) # Split the data into train, validation and test sets with 80%, 10% and 10% of the data "
   ],
   "metadata": {
    "collapsed": false,
    "ExecuteTime": {
     "end_time": "2024-02-27T15:33:15.676853Z",
     "start_time": "2024-02-27T15:33:15.649263Z"
    }
   },
   "id": "9bcfe44fa4a94811",
   "execution_count": 20
  },
  {
   "cell_type": "code",
   "outputs": [],
   "source": [
    "train_data = df_to_dataset(train) # Convert the train dataframe to a tensorflow dataset\n",
    "val_data = df_to_dataset(val) # Convert the validation dataframe to a tensorflow dataset\n",
    "test_data = df_to_dataset(test) # Convert the test dataframe to a tensorflow dataset"
   ],
   "metadata": {
    "collapsed": false,
    "ExecuteTime": {
     "end_time": "2024-02-27T15:33:15.727996Z",
     "start_time": "2024-02-27T15:33:15.677438Z"
    }
   },
   "id": "18548828a64d3ff5",
   "execution_count": 21
  },
  {
   "cell_type": "code",
   "outputs": [],
   "source": [
    "# LSTM MODEL\n",
    "encoder = tf.keras.layers.TextVectorization(max_tokens=2000)\n",
    "encoder.adapt(train_data.map(lambda text, label: text))"
   ],
   "metadata": {
    "collapsed": false,
    "ExecuteTime": {
     "end_time": "2024-02-27T15:33:16.992926Z",
     "start_time": "2024-02-27T15:33:15.728632Z"
    }
   },
   "id": "65d97565db8ca361",
   "execution_count": 22
  },
  {
   "cell_type": "code",
   "outputs": [
    {
     "data": {
      "text/plain": "array(['', '[UNK]', 'the', 'modi', 'and', 'for', 'you', 'that', 'this',\n       'are', 'not', 'will', 'india', 'with', 'have', 'but', 'has',\n       'they', 'all', 'was'], dtype='<U15')"
     },
     "execution_count": 23,
     "metadata": {},
     "output_type": "execute_result"
    }
   ],
   "source": [
    "vocab = np.array(encoder.get_vocabulary())\n",
    "vocab[:20]"
   ],
   "metadata": {
    "collapsed": false,
    "ExecuteTime": {
     "end_time": "2024-02-27T15:33:16.999806Z",
     "start_time": "2024-02-27T15:33:16.993665Z"
    }
   },
   "id": "210af43c1e6448a0",
   "execution_count": 23
  },
  {
   "cell_type": "code",
   "outputs": [],
   "source": [
    "model2 = tf.keras.Sequential([\n",
    "    encoder,\n",
    "    tf.keras.layers.Embedding(\n",
    "        input_dim=len(encoder.get_vocabulary()),\n",
    "        output_dim=32,\n",
    "        # Use masking to handle the variable sequence lengths\n",
    "        mask_zero=True),\n",
    "    tf.keras.layers.LSTM(32),\n",
    "    tf.keras.layers.Dense(32, activation='relu'),\n",
    "    tf.keras.layers.Dropout(0.4),\n",
    "    tf.keras.layers.Dense(3, activation='softmax')\n",
    "])"
   ],
   "metadata": {
    "collapsed": false,
    "ExecuteTime": {
     "end_time": "2024-02-27T15:33:17.299114Z",
     "start_time": "2024-02-27T15:33:17.000734Z"
    }
   },
   "id": "649aca256044dd5b",
   "execution_count": 24
  },
  {
   "cell_type": "code",
   "outputs": [],
   "source": [
    "model2.compile(\n",
    "    optimizer = tf.keras.optimizers.legacy.Adam(learning_rate=0.001), # gradient descent algorithm\n",
    "    loss =  tf.keras.losses.SparseCategoricalCrossentropy(), # loss function\n",
    "    metrics = ['accuracy']\n",
    ")"
   ],
   "metadata": {
    "collapsed": false,
    "ExecuteTime": {
     "end_time": "2024-02-27T15:33:17.306153Z",
     "start_time": "2024-02-27T15:33:17.301675Z"
    }
   },
   "id": "adba502a804c70ef",
   "execution_count": 25
  },
  {
   "cell_type": "code",
   "outputs": [
    {
     "name": "stdout",
     "output_type": "stream",
     "text": [
      "157/157 [==============================] - 80s 501ms/step - loss: 1.0989 - accuracy: 0.3089\n"
     ]
    },
    {
     "data": {
      "text/plain": "[1.0989019870758057, 0.30887478590011597]"
     },
     "execution_count": 26,
     "metadata": {},
     "output_type": "execute_result"
    }
   ],
   "source": [
    "model2.evaluate(train_data) # Evaluate the model on the test data"
   ],
   "metadata": {
    "collapsed": false,
    "ExecuteTime": {
     "end_time": "2024-02-27T15:34:37.096087Z",
     "start_time": "2024-02-27T15:33:17.306773Z"
    }
   },
   "id": "8922ec1232f026d9",
   "execution_count": 26
  },
  {
   "cell_type": "code",
   "outputs": [
    {
     "name": "stdout",
     "output_type": "stream",
     "text": [
      "20/20 [==============================] - 9s 453ms/step - loss: 1.0989 - accuracy: 0.3109\n"
     ]
    },
    {
     "data": {
      "text/plain": "[1.0988887548446655, 0.31091344356536865]"
     },
     "execution_count": 27,
     "metadata": {},
     "output_type": "execute_result"
    }
   ],
   "source": [
    "model2.evaluate(val_data) # Evaluate the model on the validation data"
   ],
   "metadata": {
    "collapsed": false,
    "ExecuteTime": {
     "end_time": "2024-02-27T15:34:46.082537Z",
     "start_time": "2024-02-27T15:34:37.096838Z"
    }
   },
   "id": "90595d65d9f8d42f",
   "execution_count": 27
  },
  {
   "cell_type": "code",
   "outputs": [
    {
     "name": "stdout",
     "output_type": "stream",
     "text": [
      "Epoch 1/5\n",
      "157/157 [==============================] - 260s 2s/step - loss: 0.8136 - accuracy: 0.6448 - val_loss: 0.5399 - val_accuracy: 0.8127\n",
      "Epoch 2/5\n",
      "157/157 [==============================] - 255s 2s/step - loss: 0.4564 - accuracy: 0.8581 - val_loss: 0.3757 - val_accuracy: 0.8852\n",
      "Epoch 3/5\n",
      "157/157 [==============================] - 249s 2s/step - loss: 0.3783 - accuracy: 0.8896 - val_loss: 0.3590 - val_accuracy: 0.8934\n",
      "Epoch 4/5\n",
      "157/157 [==============================] - 250s 2s/step - loss: 0.3638 - accuracy: 0.8944 - val_loss: 0.3535 - val_accuracy: 0.8943\n",
      "Epoch 5/5\n",
      "157/157 [==============================] - 249s 2s/step - loss: 0.3539 - accuracy: 0.8973 - val_loss: 0.3512 - val_accuracy: 0.8950\n"
     ]
    }
   ],
   "source": [
    "history = model2.fit(\n",
    "    train_data,\n",
    "    validation_data = val_data,\n",
    "    epochs = 5\n",
    ")"
   ],
   "metadata": {
    "collapsed": false,
    "ExecuteTime": {
     "end_time": "2024-02-27T15:55:48.821221Z",
     "start_time": "2024-02-27T15:34:46.083202Z"
    }
   },
   "id": "112c4b83a4a6fcd3",
   "execution_count": 28
  },
  {
   "cell_type": "code",
   "outputs": [
    {
     "data": {
      "text/plain": "<Figure size 640x480 with 1 Axes>",
      "image/png": "[encoded data removed]"
     },
     "metadata": {},
     "output_type": "display_data"
    }
   ],
   "source": [
    "plt.plot(history.history['accuracy'], label='accuracy') # Plot the accuracy of the model on the train data\n",
    "plt.plot(history.history['val_accuracy'], label = 'val_accuracy') # Plot the accuracy of the model on the validation data\n",
    "plt.title('Accuracy of the model')\n",
    "plt.xlabel('Epoch')\n",
    "plt.ylabel('Accuracy')\n",
    "plt.legend()\n",
    "plt.show()"
   ],
   "metadata": {
    "collapsed": false,
    "ExecuteTime": {
     "end_time": "2024-02-27T15:55:48.945098Z",
     "start_time": "2024-02-27T15:55:48.822545Z"
    }
   },
   "id": "1fd3f10513c123f0",
   "execution_count": 29
  },
  {
   "cell_type": "code",
   "outputs": [
    {
     "name": "stdout",
     "output_type": "stream",
     "text": [
      "20/20 [==============================] - 8s 434ms/step - loss: 0.3461 - accuracy: 0.8929\n"
     ]
    },
    {
     "data": {
      "text/plain": "[0.34606051445007324, 0.8928642868995667]"
     },
     "execution_count": 30,
     "metadata": {},
     "output_type": "execute_result"
    }
   ],
   "source": [
    "model2.evaluate(test_data) # Evaluate the model on the test data"
   ],
   "metadata": {
    "collapsed": false,
    "ExecuteTime": {
     "end_time": "2024-02-27T15:55:57.444195Z",
     "start_time": "2024-02-27T15:55:48.946012Z"
    }
   },
   "id": "7e6259dcfb5d9d38",
   "execution_count": 30
  },
  {
   "cell_type": "code",
   "outputs": [],
   "source": [
    "def predict_sentiment(model, text):\n",
    "    text = text.lower() # Convert the text to lowercase\n",
    "    # Convert the text to a pandas DataFrame\n",
    "    df = pd.DataFrame([text], columns=['Tweet'])\n",
    "\n",
    "    # Convert the DataFrame to a tensorflow dataset\n",
    "    ds = tf.data.Dataset.from_tensor_slices(df[\"Tweet\"]).batch(1)\n",
    "\n",
    "    # Use the model to predict the sentiment\n",
    "    prediction = model.predict(ds)\n",
    "\n",
    "    # Get the index of the maximum value (this will be the predicted label)\n",
    "    predicted_label = np.argmax(prediction)\n",
    "\n",
    "    # Map the numerical label back to the original label\n",
    "    sentiment_map = {0: 'Negative', 1: 'Neutral', 2: 'Positive'}\n",
    "    predicted_sentiment = sentiment_map[predicted_label]\n",
    "\n",
    "    # Print the predicted sentiment\n",
    "    print(f\"{text} is {predicted_sentiment}\")"
   ],
   "metadata": {
    "collapsed": false,
    "ExecuteTime": {
     "end_time": "2024-02-27T15:56:30.391013Z",
     "start_time": "2024-02-27T15:56:30.388214Z"
    }
   },
   "id": "ae5408ebdbf9e23a",
   "execution_count": 33
  },
  {
   "cell_type": "code",
   "outputs": [
    {
     "name": "stdout",
     "output_type": "stream",
     "text": [
      "1/1 [==============================] - 0s 4ms/step\n",
      "i am gilad fisher is Neutral\n",
      "1/1 [==============================] - 0s 4ms/step\n",
      "i am barak finkel is Neutral\n",
      "1/1 [==============================] - 0s 3ms/step\n",
      "i am nikita breslavsky is Neutral\n",
      "1/1 [==============================] - 0s 4ms/step\n",
      "i hate nikita breslavsky is Negative\n",
      "1/1 [==============================] - 0s 4ms/step\n",
      "i love nikita breslavsky is Positive\n",
      "1/1 [==============================] - 0s 3ms/step\n",
      "i love to kill people is Positive\n",
      "1/1 [==============================] - 0s 4ms/step\n",
      "i dont love myself is Positive\n"
     ]
    }
   ],
   "source": [
    "predict_sentiment(model2, \"I am Gilad Fisher\")\n",
    "predict_sentiment(model2, \"I am Barak Finkel\")\n",
    "predict_sentiment(model2, \"I am Nikita Breslavsky\")\n",
    "predict_sentiment(model2, \"I hate Nikita Breslavsky\")\n",
    "predict_sentiment(model2, \"I love Nikita Breslavsky\")\n",
    "predict_sentiment(model2, \"I love to kill people\")\n",
    "predict_sentiment(model2, \"I dont love myself\")"
   ],
   "metadata": {
    "collapsed": false,
    "ExecuteTime": {
     "end_time": "2024-02-27T15:56:31.078229Z",
     "start_time": "2024-02-27T15:56:31.026172Z"
    }
   },
   "id": "deb45fc5a7c01ec8",
   "execution_count": 34
  },
  {
   "cell_type": "code",
   "outputs": [],
   "source": [],
   "metadata": {
    "collapsed": false
   },
   "id": "6065afb6de0e6ca0"
  }
 ],
 "metadata": {
  "kernelspec": {
   "display_name": "Python 3",
   "language": "python",
   "name": "python3"
  },
  "language_info": {
   "codemirror_mode": {
    "name": "ipython",
    "version": 2
   },
   "file_extension": ".py",
   "mimetype": "text/x-python",
   "name": "python",
   "nbconvert_exporter": "python",
   "pygments_lexer": "ipython2",
   "version": "2.7.6"
  }
 },
 "nbformat": 4,
 "nbformat_minor": 5
}
