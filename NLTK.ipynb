{
 "cells": [
  {
   "cell_type": "code",
   "execution_count": 1,
   "id": "initial_id",
   "metadata": {
    "collapsed": true,
    "ExecuteTime": {
     "end_time": "2024-02-27T16:27:19.672263Z",
     "start_time": "2024-02-27T16:27:16.045033Z"
    }
   },
   "outputs": [],
   "source": [
    "# Load libraries\n",
    "import numpy as np # linear algebra\n",
    "import pandas as pd # data processing, CSV file I/O (e.g. pd.read_csv)\n",
    "import matplotlib.pyplot as plt # Visualization\n",
    "\n",
    "import tensorflow as tf # Deep Learning\n",
    "import tensorflow_hub as hub # Pre-trained models\n",
    " "
   ]
  },
  {
   "cell_type": "markdown",
   "source": [
    "# Data Preprocessing"
   ],
   "metadata": {
    "collapsed": false
   },
   "id": "19fba2e84bdc0149"
  },
  {
   "cell_type": "code",
   "outputs": [],
   "source": [
    "df = pd.read_csv('Twitter_Data.csv') # Read the data only with the columns that we need\n",
    "df.head() # Show the first 5 rows of the data\n",
    "df2 = pd.read_csv('Reddit_Data.csv')\n",
    "df2 = df2.rename(columns={'clean_comment': 'clean_text'})\n",
    "df = pd.concat([df, df2])"
   ],
   "metadata": {
    "collapsed": false,
    "ExecuteTime": {
     "end_time": "2024-02-27T16:27:19.966176Z",
     "start_time": "2024-02-27T16:27:19.673197Z"
    }
   },
   "id": "1bc43258190cba17",
   "execution_count": 2
  },
  {
   "cell_type": "code",
   "outputs": [
    {
     "name": "stdout",
     "output_type": "stream",
     "text": [
      "<class 'pandas.core.frame.DataFrame'>\n",
      "Index: 200229 entries, 0 to 37248\n",
      "Data columns (total 2 columns):\n",
      " #   Column      Non-Null Count   Dtype  \n",
      "---  ------      --------------   -----  \n",
      " 0   clean_text  200125 non-null  object \n",
      " 1   category    200222 non-null  float64\n",
      "dtypes: float64(1), object(1)\n",
      "memory usage: 4.6+ MB\n"
     ]
    }
   ],
   "source": [
    "df.info()"
   ],
   "metadata": {
    "collapsed": false,
    "ExecuteTime": {
     "end_time": "2024-02-27T16:27:19.982501Z",
     "start_time": "2024-02-27T16:27:19.967010Z"
    }
   },
   "id": "54c27ed8f3a81fe4",
   "execution_count": 3
  },
  {
   "cell_type": "markdown",
   "source": [
    "As we can see, there are missing values in the data. We will drop the missing values. Because it is a small amount of data."
   ],
   "metadata": {
    "collapsed": false
   },
   "id": "9086cbc0575972f1"
  },
  {
   "cell_type": "code",
   "outputs": [],
   "source": [
    "df.dropna(inplace=True) # Drop the missing values"
   ],
   "metadata": {
    "collapsed": false,
    "ExecuteTime": {
     "end_time": "2024-02-27T16:27:19.999901Z",
     "start_time": "2024-02-27T16:27:19.983889Z"
    }
   },
   "id": "3de7fd234f660ea",
   "execution_count": 4
  },
  {
   "cell_type": "code",
   "outputs": [
    {
     "name": "stdout",
     "output_type": "stream",
     "text": [
      "<class 'pandas.core.frame.DataFrame'>\n",
      "Index: 200118 entries, 0 to 37248\n",
      "Data columns (total 2 columns):\n",
      " #   Column      Non-Null Count   Dtype  \n",
      "---  ------      --------------   -----  \n",
      " 0   clean_text  200118 non-null  object \n",
      " 1   category    200118 non-null  float64\n",
      "dtypes: float64(1), object(1)\n",
      "memory usage: 4.6+ MB\n"
     ]
    }
   ],
   "source": [
    "df.info()"
   ],
   "metadata": {
    "collapsed": false,
    "ExecuteTime": {
     "end_time": "2024-02-27T16:27:20.011906Z",
     "start_time": "2024-02-27T16:27:20.000696Z"
    }
   },
   "id": "c88a65ebca160918",
   "execution_count": 5
  },
  {
   "cell_type": "code",
   "outputs": [
    {
     "data": {
      "text/plain": "array([-1.,  0.,  1.])"
     },
     "execution_count": 6,
     "metadata": {},
     "output_type": "execute_result"
    }
   ],
   "source": [
    "df['category'].unique()"
   ],
   "metadata": {
    "collapsed": false,
    "ExecuteTime": {
     "end_time": "2024-02-27T16:27:20.018825Z",
     "start_time": "2024-02-27T16:27:20.012603Z"
    }
   },
   "id": "1272c98c45bba332",
   "execution_count": 6
  },
  {
   "cell_type": "markdown",
   "source": [
    "Now need to convert the labels to numerical values. We will convert the labels to 0, 1, 2. 0 for Negative, 1 for Neutral, 2 for Positive."
   ],
   "metadata": {
    "collapsed": false
   },
   "id": "344ea1cf948d1754"
  },
  {
   "cell_type": "code",
   "outputs": [],
   "source": [
    "df['category'] = df['category'].apply(lambda x: 0 if x == -1 else (1 if x == 0 else 2)) # Convert the labels to numerical values"
   ],
   "metadata": {
    "collapsed": false,
    "ExecuteTime": {
     "end_time": "2024-02-27T16:27:20.059073Z",
     "start_time": "2024-02-27T16:27:20.019537Z"
    }
   },
   "id": "73dbb793a98e6d45",
   "execution_count": 7
  },
  {
   "cell_type": "code",
   "outputs": [
    {
     "data": {
      "text/plain": "                                          clean_text  category\n0  when modi promised “minimum government maximum...         0\n1  talk all the nonsense and continue all the dra...         1\n2  what did just say vote for modi  welcome bjp t...         2\n3  asking his supporters prefix chowkidar their n...         2\n4  answer who among these the most powerful world...         2",
      "text/html": "<div>\n<style scoped>\n    .dataframe tbody tr th:only-of-type {\n        vertical-align: middle;\n    }\n\n    .dataframe tbody tr th {\n        vertical-align: top;\n    }\n\n    .dataframe thead th {\n        text-align: right;\n    }\n</style>\n<table border=\"1\" class=\"dataframe\">\n  <thead>\n    <tr style=\"text-align: right;\">\n      <th></th>\n      <th>clean_text</th>\n      <th>category</th>\n    </tr>\n  </thead>\n  <tbody>\n    <tr>\n      <th>0</th>\n      <td>when modi promised “minimum government maximum...</td>\n      <td>0</td>\n    </tr>\n    <tr>\n      <th>1</th>\n      <td>talk all the nonsense and continue all the dra...</td>\n      <td>1</td>\n    </tr>\n    <tr>\n      <th>2</th>\n      <td>what did just say vote for modi  welcome bjp t...</td>\n      <td>2</td>\n    </tr>\n    <tr>\n      <th>3</th>\n      <td>asking his supporters prefix chowkidar their n...</td>\n      <td>2</td>\n    </tr>\n    <tr>\n      <th>4</th>\n      <td>answer who among these the most powerful world...</td>\n      <td>2</td>\n    </tr>\n  </tbody>\n</table>\n</div>"
     },
     "execution_count": 8,
     "metadata": {},
     "output_type": "execute_result"
    }
   ],
   "source": [
    "df['category'].unique()\n",
    "df.head()"
   ],
   "metadata": {
    "collapsed": false,
    "ExecuteTime": {
     "end_time": "2024-02-27T16:27:20.065199Z",
     "start_time": "2024-02-27T16:27:20.059891Z"
    }
   },
   "id": "8cd8e22d49bba81f",
   "execution_count": 8
  },
  {
   "cell_type": "markdown",
   "source": [
    "Check if data is balanced"
   ],
   "metadata": {
    "collapsed": false
   },
   "id": "af0cf2bd8845ace0"
  },
  {
   "cell_type": "code",
   "outputs": [
    {
     "data": {
      "text/plain": "(43786, 68253, 88079)"
     },
     "execution_count": 9,
     "metadata": {},
     "output_type": "execute_result"
    }
   ],
   "source": [
    "len(df[df['category'] == 0]) , len(df[df['category'] == 1]) , len(df[df['category'] == 2]) # Count the number of each label"
   ],
   "metadata": {
    "collapsed": false,
    "ExecuteTime": {
     "end_time": "2024-02-27T16:27:20.077878Z",
     "start_time": "2024-02-27T16:27:20.065778Z"
    }
   },
   "id": "dc3de6198c365f1",
   "execution_count": 9
  },
  {
   "cell_type": "markdown",
   "source": [
    "Data is balanced. Now we can convert the data to a tensorflow dataset."
   ],
   "metadata": {
    "collapsed": false
   },
   "id": "c5d2b136bea3418b"
  },
  {
   "cell_type": "code",
   "outputs": [],
   "source": [
    "# function that converts a panda dataframe to a tensorflow dataset\n",
    "def df_to_dataset(dataframe, shuffle=True, batch_size=1024): # Function to convert a dataframe to a dataset\n",
    "    df = dataframe.copy() # avoid modifying the original dataframe\n",
    "    labels = df.pop(\"category\") # Remove the label column from the dataframe\n",
    "    df = df[\"clean_text\"] # Keep only the description column\n",
    "    ds = tf.data.Dataset.from_tensor_slices((df, labels)) # Create a tensorflow dataset\n",
    "    if shuffle: # Shuffle the dataset if needed\n",
    "        ds = ds.shuffle(buffer_size=len(dataframe))\n",
    "    ds = ds.batch(batch_size)  # Batch the dataset\n",
    "    ds = ds.prefetch(tf.data.AUTOTUNE) # automatically tune the number of batches to prefetch based on the current runtime conditions\n",
    "    return ds"
   ],
   "metadata": {
    "collapsed": false,
    "ExecuteTime": {
     "end_time": "2024-02-27T16:27:20.082112Z",
     "start_time": "2024-02-27T16:27:20.080012Z"
    }
   },
   "id": "5d418508e6ebdfcc",
   "execution_count": 10
  },
  {
   "cell_type": "code",
   "outputs": [
    {
     "name": "stderr",
     "output_type": "stream",
     "text": [
      "/Library/Frameworks/Python.framework/Versions/3.11/lib/python3.11/site-packages/numpy/core/fromnumeric.py:57: FutureWarning: 'DataFrame.swapaxes' is deprecated and will be removed in a future version. Please use 'DataFrame.transpose' instead.\n",
      "  return bound(*args, **kwds)\n"
     ]
    }
   ],
   "source": [
    "train, val , test = np.split(df.sample(frac=1), [int(.8*len(df)), int(.9*len(df))]) # Split the data into train, validation and test sets with 80%, 10% and 10% of the data "
   ],
   "metadata": {
    "collapsed": false,
    "ExecuteTime": {
     "end_time": "2024-02-27T16:27:20.103913Z",
     "start_time": "2024-02-27T16:27:20.082836Z"
    }
   },
   "id": "e9d7a7b7eac69a0e",
   "execution_count": 11
  },
  {
   "cell_type": "code",
   "outputs": [],
   "source": [
    "train_data = df_to_dataset(train) # Convert the train dataframe to a tensorflow dataset\n",
    "val_data = df_to_dataset(val) # Convert the validation dataframe to a tensorflow dataset\n",
    "test_data = df_to_dataset(test) # Convert the test dataframe to a tensorflow dataset"
   ],
   "metadata": {
    "collapsed": false,
    "ExecuteTime": {
     "end_time": "2024-02-27T16:27:20.184844Z",
     "start_time": "2024-02-27T16:27:20.104650Z"
    }
   },
   "id": "2c2e12fe56e1c5c4",
   "execution_count": 12
  },
  {
   "cell_type": "markdown",
   "source": [
    "# Model"
   ],
   "metadata": {
    "collapsed": false
   },
   "id": "e46900b05c03604a"
  },
  {
   "cell_type": "code",
   "outputs": [],
   "source": [
    "embedding = \"https://www.kaggle.com/models/google/nnlm/frameworks/TensorFlow2/variations/en-dim50/versions/1\" # Load the embedding model\n",
    "hub_layer = hub.KerasLayer(embedding, input_shape=[], dtype=tf.string, trainable=True) # Create a keras layer with the embedding model"
   ],
   "metadata": {
    "collapsed": false,
    "ExecuteTime": {
     "end_time": "2024-02-27T16:27:30.235469Z",
     "start_time": "2024-02-27T16:27:20.186047Z"
    }
   },
   "id": "ee67bb5238f425c1",
   "execution_count": 13
  },
  {
   "cell_type": "code",
   "outputs": [],
   "source": [
    "model = tf.keras.Sequential() # Create a sequential model\n",
    "model.add(hub_layer) # Add the pre-trained layer\n",
    "\n",
    "# Assuming the output of hub_layer is a flat vector. This is just a conceptual example.\n",
    "# In practice, CNNs need sequence or matrix inputs.\n",
    "#model.add(tf.keras.layers.Reshape((50, 1)))  # Reshape for CNN, if necessary\n",
    "#model.add(tf.keras.layers.Conv1D(filters=64, kernel_size=3, activation='relu'))  # Example CNN layer\n",
    "#model.add(tf.keras.layers.GlobalMaxPooling1D())  # Pooling layer to reduce dimensionality\n",
    "\n",
    "\n",
    "model.add(tf.keras.layers.Dense(16, activation='relu',kernel_regularizer=tf.keras.regularizers.l2(0.01))) # Add a hidden layer with 16 neurons\n",
    "model.add(tf.keras.layers.Dense(3, activation='softmax')) "
   ],
   "metadata": {
    "collapsed": false,
    "ExecuteTime": {
     "end_time": "2024-02-27T16:27:30.377268Z",
     "start_time": "2024-02-27T16:27:30.236285Z"
    }
   },
   "id": "9fe979fc5958fcae",
   "execution_count": 14
  },
  {
   "cell_type": "code",
   "outputs": [],
   "source": [
    "model.compile(\n",
    "    optimizer = tf.keras.optimizers.legacy.Adam(learning_rate=0.001), # gradient descent algorithm\n",
    "    loss =  tf.keras.losses.SparseCategoricalCrossentropy(), # loss function\n",
    "    metrics = ['accuracy']\n",
    ")"
   ],
   "metadata": {
    "collapsed": false,
    "ExecuteTime": {
     "end_time": "2024-02-27T16:27:30.386683Z",
     "start_time": "2024-02-27T16:27:30.377900Z"
    }
   },
   "id": "a36c98187bf97f91",
   "execution_count": 15
  },
  {
   "cell_type": "code",
   "outputs": [
    {
     "name": "stdout",
     "output_type": "stream",
     "text": [
      "157/157 [==============================] - 1s 4ms/step - loss: 1.4023 - accuracy: 0.2325\n"
     ]
    },
    {
     "data": {
      "text/plain": "[1.402314305305481, 0.23246967792510986]"
     },
     "execution_count": 16,
     "metadata": {},
     "output_type": "execute_result"
    }
   ],
   "source": [
    "model.evaluate(train_data) # Evaluate the model on the test data"
   ],
   "metadata": {
    "collapsed": false,
    "ExecuteTime": {
     "end_time": "2024-02-27T16:27:31.296383Z",
     "start_time": "2024-02-27T16:27:30.387308Z"
    }
   },
   "id": "988f01f59275d414",
   "execution_count": 16
  },
  {
   "cell_type": "code",
   "outputs": [
    {
     "name": "stdout",
     "output_type": "stream",
     "text": [
      "20/20 [==============================] - 0s 4ms/step - loss: 1.4026 - accuracy: 0.2324\n"
     ]
    },
    {
     "data": {
      "text/plain": "[1.402561068534851, 0.23241055011749268]"
     },
     "execution_count": 17,
     "metadata": {},
     "output_type": "execute_result"
    }
   ],
   "source": [
    "model.evaluate(val_data) # Evaluate the model on the validation data"
   ],
   "metadata": {
    "collapsed": false,
    "ExecuteTime": {
     "end_time": "2024-02-27T16:27:31.401792Z",
     "start_time": "2024-02-27T16:27:31.297328Z"
    }
   },
   "id": "abff764f082bdb9d",
   "execution_count": 17
  },
  {
   "cell_type": "code",
   "outputs": [
    {
     "name": "stdout",
     "output_type": "stream",
     "text": [
      "Epoch 1/10\n",
      "157/157 [==============================] - 24s 149ms/step - loss: 1.0865 - accuracy: 0.5404 - val_loss: 0.8243 - val_accuracy: 0.7499\n",
      "Epoch 2/10\n",
      "157/157 [==============================] - 24s 150ms/step - loss: 0.6122 - accuracy: 0.8541 - val_loss: 0.4901 - val_accuracy: 0.8961\n",
      "Epoch 3/10\n",
      "157/157 [==============================] - 24s 154ms/step - loss: 0.3865 - accuracy: 0.9328 - val_loss: 0.3826 - val_accuracy: 0.9259\n",
      "Epoch 4/10\n",
      "157/157 [==============================] - 24s 150ms/step - loss: 0.2984 - accuracy: 0.9530 - val_loss: 0.3340 - val_accuracy: 0.9319\n",
      "Epoch 5/10\n",
      "157/157 [==============================] - 24s 150ms/step - loss: 0.2514 - accuracy: 0.9615 - val_loss: 0.3077 - val_accuracy: 0.9353\n",
      "Epoch 6/10\n",
      "157/157 [==============================] - 24s 149ms/step - loss: 0.2211 - accuracy: 0.9664 - val_loss: 0.2907 - val_accuracy: 0.9359\n",
      "Epoch 7/10\n",
      "157/157 [==============================] - 24s 150ms/step - loss: 0.1995 - accuracy: 0.9695 - val_loss: 0.2796 - val_accuracy: 0.9370\n",
      "Epoch 8/10\n",
      "157/157 [==============================] - 23s 148ms/step - loss: 0.1828 - accuracy: 0.9725 - val_loss: 0.2729 - val_accuracy: 0.9367\n",
      "Epoch 9/10\n",
      "157/157 [==============================] - 24s 150ms/step - loss: 0.1698 - accuracy: 0.9743 - val_loss: 0.2684 - val_accuracy: 0.9367\n",
      "Epoch 10/10\n",
      "157/157 [==============================] - 24s 150ms/step - loss: 0.1591 - accuracy: 0.9759 - val_loss: 0.2670 - val_accuracy: 0.9345\n"
     ]
    }
   ],
   "source": [
    "history = model.fit(\n",
    "    train_data,\n",
    "    validation_data = val_data,\n",
    "    epochs = 10\n",
    ")"
   ],
   "metadata": {
    "collapsed": false,
    "ExecuteTime": {
     "end_time": "2024-02-27T16:31:28.311502Z",
     "start_time": "2024-02-27T16:27:31.402456Z"
    }
   },
   "id": "a4a766f959d0724",
   "execution_count": 18
  },
  {
   "cell_type": "code",
   "outputs": [
    {
     "data": {
      "text/plain": "<Figure size 640x480 with 1 Axes>",
      "image/png": "[encoded data removed]"
     },
     "metadata": {},
     "output_type": "display_data"
    }
   ],
   "source": [
    "plt.plot(history.history['accuracy'], label='accuracy') # Plot the accuracy of the model on the train data\n",
    "plt.plot(history.history['val_accuracy'], label = 'val_accuracy') # Plot the accuracy of the model on the validation data\n",
    "plt.title('Accuracy of the model')\n",
    "plt.xlabel('Epoch')\n",
    "plt.ylabel('Accuracy')\n",
    "plt.legend()\n",
    "plt.show()"
   ],
   "metadata": {
    "collapsed": false,
    "ExecuteTime": {
     "end_time": "2024-02-27T16:31:28.400788Z",
     "start_time": "2024-02-27T16:31:28.315913Z"
    }
   },
   "id": "1a7cf29d3e661142",
   "execution_count": 19
  },
  {
   "cell_type": "code",
   "outputs": [
    {
     "data": {
      "text/plain": "<Figure size 640x480 with 1 Axes>",
      "image/png": "[encoded data removed]"
     },
     "metadata": {},
     "output_type": "display_data"
    }
   ],
   "source": [
    "plt.plot(history.history['loss'], label='loss') # Plot the accuracy of the model on the train data\n",
    "plt.plot(history.history['val_loss'], label = 'val_loss') # Plot the accuracy of the model on the validation data\n",
    "plt.title('Loss of the model')\n",
    "plt.xlabel('Epoch')\n",
    "plt.ylabel('Loss')\n",
    "plt.legend()\n",
    "plt.show()"
   ],
   "metadata": {
    "collapsed": false,
    "ExecuteTime": {
     "end_time": "2024-02-27T16:31:28.460166Z",
     "start_time": "2024-02-27T16:31:28.401378Z"
    }
   },
   "id": "b0839c50e0809584",
   "execution_count": 20
  },
  {
   "cell_type": "code",
   "outputs": [
    {
     "name": "stdout",
     "output_type": "stream",
     "text": [
      "20/20 [==============================] - 0s 21ms/step - loss: 0.2658 - accuracy: 0.9352\n"
     ]
    },
    {
     "data": {
      "text/plain": "[0.2657686769962311, 0.9352388381958008]"
     },
     "execution_count": 21,
     "metadata": {},
     "output_type": "execute_result"
    }
   ],
   "source": [
    "model.evaluate(test_data) # Evaluate the model on the test data"
   ],
   "metadata": {
    "collapsed": false,
    "ExecuteTime": {
     "end_time": "2024-02-27T16:31:28.891887Z",
     "start_time": "2024-02-27T16:31:28.460873Z"
    }
   },
   "id": "66f5ecf96b60c83",
   "execution_count": 21
  },
  {
   "cell_type": "code",
   "outputs": [],
   "source": [
    "def predict_sentiment(model, text):\n",
    "    \n",
    "    text = text.lower() # Convert the text to lowercase\n",
    "    # Convert the text to a pandas DataFrame\n",
    "    df = pd.DataFrame([text], columns=['Tweet'])\n",
    "\n",
    "    # Convert the DataFrame to a tensorflow dataset\n",
    "    ds = tf.data.Dataset.from_tensor_slices(df[\"Tweet\"]).batch(1)\n",
    "\n",
    "    # Use the model to predict the sentiment\n",
    "    prediction = model.predict(ds)\n",
    "\n",
    "    # Get the index of the maximum value (this will be the predicted label)\n",
    "    predicted_label = np.argmax(prediction)\n",
    "\n",
    "    # Map the numerical label back to the original label\n",
    "    sentiment_map = {0: 'Negative', 1: 'Neutral', 2: 'Positive'}\n",
    "    predicted_sentiment = sentiment_map[predicted_label]\n",
    "\n",
    "    # Print the predicted sentiment\n",
    "    print(f\"{text} is {predicted_sentiment}\")"
   ],
   "metadata": {
    "collapsed": false,
    "ExecuteTime": {
     "end_time": "2024-02-27T16:31:28.895164Z",
     "start_time": "2024-02-27T16:31:28.892722Z"
    }
   },
   "id": "18ff4daeb689dbb6",
   "execution_count": 22
  },
  {
   "cell_type": "code",
   "outputs": [
    {
     "name": "stdout",
     "output_type": "stream",
     "text": [
      "1/1 [==============================] - 0s 50ms/step\n",
      "i am gilad fisher is Neutral\n",
      "1/1 [==============================] - 0s 22ms/step\n",
      "i am barak finkel is Neutral\n",
      "1/1 [==============================] - 0s 21ms/step\n",
      "i am nikita breslavsky is Neutral\n",
      "1/1 [==============================] - 0s 21ms/step\n",
      "i hate nikita breslavsky is Negative\n",
      "1/1 [==============================] - 0s 22ms/step\n",
      "i love nikita breslavsky is Positive\n",
      "1/1 [==============================] - 0s 21ms/step\n",
      "i love to kill people is Positive\n",
      "1/1 [==============================] - 0s 23ms/step\n",
      "i dont love myself is Positive\n"
     ]
    }
   ],
   "source": [
    "predict_sentiment(model, \"I am Gilad Fisher\") \n",
    "predict_sentiment(model, \"I am Barak Finkel\")\n",
    "predict_sentiment(model, \"I am Nikita Breslavsky\")\n",
    "predict_sentiment(model, \"I hate Nikita Breslavsky\")\n",
    "predict_sentiment(model, \"I love Nikita Breslavsky\")\n",
    "predict_sentiment(model, \"I love to kill people\")\n",
    "predict_sentiment(model, \"I dont love myself\")"
   ],
   "metadata": {
    "collapsed": false,
    "ExecuteTime": {
     "end_time": "2024-02-27T16:31:29.099125Z",
     "start_time": "2024-02-27T16:31:28.895942Z"
    }
   },
   "id": "2e4a673c4f3c2bba",
   "execution_count": 23
  }
 ],
 "metadata": {
  "kernelspec": {
   "display_name": "Python 3",
   "language": "python",
   "name": "python3"
  },
  "language_info": {
   "codemirror_mode": {
    "name": "ipython",
    "version": 2
   },
   "file_extension": ".py",
   "mimetype": "text/x-python",
   "name": "python",
   "nbconvert_exporter": "python",
   "pygments_lexer": "ipython2",
   "version": "2.7.6"
  }
 },
 "nbformat": 4,
 "nbformat_minor": 5
}
